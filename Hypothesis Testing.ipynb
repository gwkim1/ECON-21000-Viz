{
 "cells": [
  {
   "cell_type": "markdown",
   "metadata": {},
   "source": [
    "# Hypothesis Testing"
   ]
  },
  {
   "cell_type": "markdown",
   "metadata": {},
   "source": [
    "This notebook displays how hypothesis testing is done. (https://en.wikipedia.org/wiki/Statistical_hypothesis_testing)\n",
    "<br>\n",
    "This notebook will deal with the simplest example: test your hypothesis on the true unknown mean of a distribution (not necessarily normal),\n",
    "<br>\n",
    "when the distribution's true variance is known.\n",
    "<br>\n",
    "<br>\n",
    "Run the code chunk below, adjust the slidebars and press \"Run Interact\" to create the visualization. \n",
    "<br> In this example, a gamma distribution is used with a mean of your choice.\n",
    "<br>\n",
    "mean: the true mean of the gamma distribution (unknown to the tester)\n",
    "<br>\n",
    "hypothesis: the tester's hypothesized mean of the distribution\n",
    "<br>\n",
    "pvalue (https://en.wikipedia.org/wiki/P-value): the probability that the test statistics from the true distribution can be more extreme than your observed observations."
   ]
  },
  {
   "cell_type": "code",
   "execution_count": 1,
   "metadata": {},
   "outputs": [
    {
     "name": "stderr",
     "output_type": "stream",
     "text": [
      "Widget Javascript not detected.  It may not be installed or enabled properly.\n"
     ]
    },
    {
     "data": {
      "application/vnd.jupyter.widget-view+json": {
       "model_id": "8f208ade2db14389887061a20c2f4d31"
      }
     },
     "metadata": {},
     "output_type": "display_data"
    },
    {
     "data": {
      "text/plain": [
       "<function __main__.HT>"
      ]
     },
     "execution_count": 1,
     "metadata": {},
     "output_type": "execute_result"
    }
   ],
   "source": [
    "import numpy as np\n",
    "import math \n",
    "import matplotlib.pyplot as plt\n",
    "import ipywidgets as widgets\n",
    "from ipywidgets import interact, interactive, fixed, interact_manual\n",
    "import scipy.stats as stats\n",
    "\n",
    "def HT(mean, hypothesis, pvalue):\n",
    "    shape = math.sqrt(mean)\n",
    "    scale = math.sqrt(mean)\n",
    "    truevar = shape*scale*scale\n",
    "    N=100\n",
    "    \n",
    "    sample1 = np.random.gamma(shape=shape, scale=scale, size=N)\n",
    "    sample2 = np.random.gamma(shape=scale, scale=scale, size=N)\n",
    "    mean1 = np.mean(sample1)\n",
    "    mean2 = np.mean(sample2)\n",
    "    \n",
    "    print (\"Below are the histograms of two sets of samples from a gamma distribution with your chosen mean=\"+str(mean))\n",
    "    \n",
    "    f, axarr = plt.subplots(1, 2, figsize=(20,5), sharey=True)\n",
    "    axarr[0].hist(sample1)\n",
    "    axarr[0].axvline(x=mean1, color='b', label='sample mean='+str(mean1))\n",
    "    axarr[1].hist(sample2)\n",
    "    axarr[1].axvline(x=mean2, color='b', label='sample mean='+str(mean2))\n",
    "    axarr[0].legend()\n",
    "    axarr[1].legend()\n",
    "    plt.show()\n",
    "    \n",
    "    nmean1 = (mean1 - hypothesis) / (math.sqrt(truevar) / math.sqrt(N))\n",
    "    nmean2 = (mean2 - hypothesis) / (math.sqrt(truevar) / math.sqrt(N))\n",
    "    \n",
    "    p1 = stats.norm(0, 1).ppf(pvalue/2.0)\n",
    "    p2 = stats.norm(0, 1).ppf(1-pvalue/2.0)  \n",
    "    \n",
    "    print (\"normalized test statistics for the two sample means (blue line): \"+str(nmean1)+\", \"+str(nmean2))\n",
    "    print (\"p-value threshold for a standard normal distribution (green): \"+str(p1)+\", \"+str(p2))\n",
    "    \n",
    "    plt.figure(figsize=(12, 5))\n",
    "    \n",
    "    x = np.linspace(-3.5, 3.5, 300)\n",
    "    y = [ 1 / math.sqrt(2 * math.pi * 1) * math.exp( - (xx-0)**2 / (2 * 1) ) for xx in x ]\n",
    "    plt.plot(x, y)\n",
    "    plt.axvline(x=0, color='r', label='mean=0 of standard normal')\n",
    "    plt.axvline(x=nmean1, color='b', label='test statistics based on sample')\n",
    "    plt.axvline(x=nmean2, color='b')\n",
    "    plt.xlabel(\"x\")\n",
    "    plt.ylabel(\"P(x)\")\n",
    "\n",
    "    plt.axvline(x=p1, color='g', label='p-value threshold (p='+str(pvalue)+')')\n",
    "    plt.axvline(x=p2, color='g')       \n",
    "    plt.legend()\n",
    "    plt.show()\n",
    "\n",
    "interact_manual(HT, mean=(1.0, 5.0), hypothesis=(1.0, 5.0), pvalue=widgets.FloatSlider(min=0.01, max=0.15, step=0.01))"
   ]
  },
  {
   "cell_type": "markdown",
   "metadata": {},
   "source": [
    "If your hypothesized mean exactly matches the true mean, \n",
    "the test statistics will almost always be positioned within the two p-value thresholds,\n",
    "in which case you correctly accept your hypothesis.\n",
    "However, if the hypothesized mean does not match the true mean,\n",
    "there is an increasing chance that the test statistics may exceed the thresholds, in which case you should reject the hypothesis.\n",
    "<br>\n",
    "Depending on the p-value, higher p-values may reject a hypothesis, while lower p-values may accept the same hypothesis."
   ]
  }
 ],
 "metadata": {
  "kernelspec": {
   "display_name": "Python 2",
   "language": "python",
   "name": "python2"
  },
  "language_info": {
   "codemirror_mode": {
    "name": "ipython",
    "version": 2
   },
   "file_extension": ".py",
   "mimetype": "text/x-python",
   "name": "python",
   "nbconvert_exporter": "python",
   "pygments_lexer": "ipython2",
   "version": "2.7.13"
  }
 },
 "nbformat": 4,
 "nbformat_minor": 2
}
