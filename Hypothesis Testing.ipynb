{
 "cells": [
  {
   "cell_type": "markdown",
   "metadata": {},
   "source": [
    "# Hypothesis Testing"
   ]
  },
  {
   "cell_type": "markdown",
   "metadata": {},
   "source": [
    "This notebook displays how hypothesis testing is done. (https://en.wikipedia.org/wiki/Statistical_hypothesis_testing)\n",
    "<br>\n",
    "This notebook will deal with the simplest example: test your hypothesis on the true unknown mean of a distribution (not necessarily normal),\n",
    "<br>\n",
    "when the distribution's true variance is known.\n",
    "<br>\n",
    "\n",
    "To create the visualization, click on the code block below, and run that block by clicking on the 'run cell' button marked with red on the following image.\n",
    "\n",
    "![title](Menu.PNG)\n",
    "\n",
    "Running the code cell for the first time may take a while. Once the run is complete, you'll see some slidebars/dropdown menus along with the 'Run Interact' button. Adjust the parameters, and then press the button to see the visualization.\n",
    "\n",
    "\n",
    "In this applet, a gamma distribution is used for the example data with a mean of your choice.\n",
    "- mean: the true mean of the gamma distribution (unknown to the tester)\n",
    "- hypothesis: the tester's hypothesized mean of the distribution\n",
    "- pvalue (https://en.wikipedia.org/wiki/P-value): the probability that the test statistics from the true distribution can be more extreme than your observed observations."
   ]
  },
  {
   "cell_type": "code",
   "execution_count": 1,
   "metadata": {},
   "outputs": [
    {
     "name": "stderr",
     "output_type": "stream",
     "text": [
      "C:\\Anaconda\\lib\\site-packages\\statsmodels\\compat\\pandas.py:56: FutureWarning: The pandas.core.datetools module is deprecated and will be removed in a future version. Please use the pandas.tseries module instead.\n",
      "  from pandas.core import datetools\n"
     ]
    },
    {
     "data": {
      "application/vnd.jupyter.widget-view+json": {
       "model_id": "7f71eb67ca9542e5938ea67187c9e5fe"
      }
     },
     "metadata": {},
     "output_type": "display_data"
    },
    {
     "data": {
      "text/plain": [
       "<function visfunctions.HT>"
      ]
     },
     "execution_count": 1,
     "metadata": {},
     "output_type": "execute_result"
    }
   ],
   "source": [
    "import ipywidgets as widgets\n",
    "from visfunctions import HT\n",
    "from ipywidgets import interact_manual\n",
    "\n",
    "interact_manual(HT, mean=(1.0, 5.0), hypothesis=(1.0, 5.0), pvalue=widgets.FloatSlider(min=0.01, max=0.15, step=0.01))"
   ]
  },
  {
   "cell_type": "markdown",
   "metadata": {},
   "source": [
    "If your hypothesized mean exactly matches the true mean, \n",
    "the test statistics will almost always be positioned within the two p-value thresholds,\n",
    "in which case you correctly accept your hypothesis.\n",
    "However, if the hypothesized mean does not match the true mean,\n",
    "there is an increasing chance that the test statistics may exceed the thresholds, in which case you should reject the hypothesis.\n",
    "<br>\n",
    "Depending on the p-value, higher p-values may reject a hypothesis, while lower p-values may accept the same hypothesis."
   ]
  }
 ],
 "metadata": {
  "kernelspec": {
   "display_name": "Python 2",
   "language": "python",
   "name": "python2"
  },
  "language_info": {
   "codemirror_mode": {
    "name": "ipython",
    "version": 2
   },
   "file_extension": ".py",
   "mimetype": "text/x-python",
   "name": "python",
   "nbconvert_exporter": "python",
   "pygments_lexer": "ipython2",
   "version": "2.7.13"
  }
 },
 "nbformat": 4,
 "nbformat_minor": 2
}
