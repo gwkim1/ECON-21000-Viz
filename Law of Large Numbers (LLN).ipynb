{
 "cells": [
  {
   "cell_type": "markdown",
   "metadata": {},
   "source": [
    "# Law of Large Numbers (LLN)"
   ]
  },
  {
   "cell_type": "markdown",
   "metadata": {},
   "source": [
    "This notebook displays the effect of LLN as more data points are sampled. According to the Law of Large Numbers, the average of the results obtained from a large number of trials should be close to the expected value, and will tend to become closer as more trials are performed. (https://en.wikipedia.org/wiki/Law_of_large_numbers)\n",
    "<br> Running the code chunk below, setting the parameters with slidebars and pressing \"Run Interact\" will plot graphs to display the effect of LLN. \n",
    "<br>\n",
    "In this applet, we will sample data points from an exponential distribution.\n",
    "<br>\n",
    "mean: true mean of the exponential distribution\n",
    "<br>\n",
    "N: number of data points to sample "
   ]
  },
  {
   "cell_type": "code",
   "execution_count": 3,
   "metadata": {},
   "outputs": [
    {
     "data": {
      "application/vnd.jupyter.widget-view+json": {
       "model_id": "d08b583916124ac6af40238d4fcee65a"
      }
     },
     "metadata": {},
     "output_type": "display_data"
    },
    {
     "data": {
      "text/plain": [
       "<function __main__.LLN>"
      ]
     },
     "execution_count": 3,
     "metadata": {},
     "output_type": "execute_result"
    }
   ],
   "source": [
    "import numpy as np\n",
    "import math \n",
    "import matplotlib.pyplot as plt\n",
    "import ipywidgets as widgets\n",
    "from ipywidgets import interact, interactive, fixed, interact_manual\n",
    "\n",
    "def LLN(mean, N):\n",
    "    \n",
    "    ld = 1.0/mean\n",
    "    \n",
    "    print (\"First, the data would be sampled from the following exponential distribution.\")\n",
    "    print (\"The mean of your choice is shown with the vertical green line.\")\n",
    "    x = np.linspace(0, 7, 100)\n",
    "    y = ld * np.exp(-ld * x)\n",
    "    plt.plot(x, y)\n",
    "    plt.xlabel(\"x\")\n",
    "    plt.ylabel(\"P(x)\")\n",
    "    plt.title(\"exponential distribution with lambda: \" + str(round(ld, 2)))\n",
    "    plt.axvline(x=1 / float(ld), color='g', label='mean(1/lambda) = ' + str(round(1/float(ld), 2)))\n",
    "    plt.legend()\n",
    "    plt.show()\n",
    "\n",
    "    avgs = []\n",
    "    rds = []\n",
    "    for i in range(1, N+1):\n",
    "        rd = round(np.random.exponential(1/float(ld), 1)[0], 2)\n",
    "        rds.append(rd)\n",
    "        avgs.append(np.mean(rds))\n",
    "    \n",
    "    Ns = []\n",
    "    sampleavgs = []\n",
    "    \n",
    "    print (\"These values below illustrate how the average changes as more samples are added\")\n",
    "    if N >= 1:\n",
    "        Ns.append(1)\n",
    "        sampleavgs.append(np.mean([rds[0]]))\n",
    "        print (\"first 1 sample:\", [rds[0]], \"-> average:\", round(np.mean([rds[0]]), 2))    \n",
    "        if N >= 5:\n",
    "            Ns.append(5)\n",
    "            sampleavgs.append(np.mean(rds[:5]))    \n",
    "            print (\"first 5 samples:\", rds[:5], \"-> average:\", round(np.mean(rds[:5]), 2))\n",
    "            if N >= 10:\n",
    "                Ns.append(10)\n",
    "                sampleavgs.append(np.mean(rds[:10])) \n",
    "                print (\"first 10 samples:\", rds[:10], \"-> average:\", round(np.mean(rds[:10]), 2))\n",
    "                if N >= 100:\n",
    "                    Ns.append(100)\n",
    "                    sampleavgs.append(np.mean(rds[:100])) \n",
    "                    print (\"first 100 samples: average:\", round(np.mean(rds[:100]), 2))\n",
    "                    if N >= 200: \n",
    "                        Ns.append(200)\n",
    "                        sampleavgs.append(np.mean(rds[:200])) \n",
    "                        print (\"first 200 samples: average:\", round(np.mean(rds[:200]), 2))                        \n",
    "    \n",
    "    print (\"\\nThe two plots below display the changing trend of the averages as N gets larger.\")\n",
    "    print (\"The example averages shown above are marked with red dots.\")\n",
    "    print (\"The left plot is a zoomed-in version to display the red dots more clearly, the right plot shows the full trend.\")\n",
    "    print (\"Observe that as N gets very large, the average nearly converges to the true mean indicated by the green line.\")\n",
    "    f, axarr = plt.subplots(1, 2, figsize=(20,5), sharey=True)\n",
    "    \n",
    "    axarr[0].plot(Ns, sampleavgs, 'ro')\n",
    "    axarr[0].plot(range(1, max(Ns)+1), avgs[:max(Ns)])\n",
    "    axarr[0].set_xlabel(\"N\")\n",
    "    axarr[0].set_ylabel(\"average\")    \n",
    "    \n",
    "    axarr[1].plot(Ns, sampleavgs, 'ro')\n",
    "    axarr[1].plot(range(1, N+1), avgs)\n",
    "    axarr[1].set_xlim(0, 1500)\n",
    "    axarr[1].axhline(y=round(1/float(ld), 2), color='g', label='mean(1/lambda) = ' + str(round(1/float(ld), 2)))\n",
    "    axarr[1].legend()\n",
    "    axarr[1].set_xlabel(\"N\")\n",
    "    axarr[1].set_ylabel(\"average\")\n",
    "    plt.show()\n",
    "    \n",
    "interact_manual(LLN,mean=(0.5, 3), N=(1, 1500))"
   ]
  }
 ],
 "metadata": {
  "kernelspec": {
   "display_name": "Python 2",
   "language": "python",
   "name": "python2"
  },
  "language_info": {
   "codemirror_mode": {
    "name": "ipython",
    "version": 2
   },
   "file_extension": ".py",
   "mimetype": "text/x-python",
   "name": "python",
   "nbconvert_exporter": "python",
   "pygments_lexer": "ipython2",
   "version": "2.7.13"
  },
  "widgets": {
   "application/vnd.jupyter.widget-state+json": {
    "state": {
     "0087059a5bf841c4b6a46e004489c692": {
      "model_module": "jupyter-js-widgets",
      "model_module_version": "~2.1.4",
      "model_name": "FloatSliderModel",
      "state": {
       "_model_module_version": "~2.1.4",
       "_view_module_version": "~2.1.4",
       "description": "mean",
       "layout": "IPY_MODEL_33dd11c68a0c49398c2db6a95ce70386",
       "max": 3,
       "min": 0.5,
       "step": 0.1,
       "value": 1.75
      }
     },
     "0434f89ab04c4d93b499d8ee4a4fce81": {
      "model_module": "jupyter-js-widgets",
      "model_module_version": "~2.1.4",
      "model_name": "SliderStyleModel",
      "state": {
       "_model_module_version": "~2.1.4",
       "_view_module_version": "~2.1.4"
      }
     },
     "05222c8eb32f4b21a14908e15d1231df": {
      "model_module": "jupyter-js-widgets",
      "model_module_version": "~2.1.4",
      "model_name": "ButtonModel",
      "state": {
       "_model_module_version": "~2.1.4",
       "_view_module_version": "~2.1.4",
       "description": "Run Interact",
       "layout": "IPY_MODEL_c028d8c31d4f4886a12d9f03700d12cd",
       "style": "IPY_MODEL_f2eb1347969b481d899412e3a427448c"
      }
     },
     "09e9863d6ae74b0da5a80dd7e5f066ca": {
      "model_module": "jupyter-js-widgets",
      "model_module_version": "~2.1.4",
      "model_name": "LayoutModel",
      "state": {
       "_model_module_version": "~2.1.4",
       "_view_module_version": "~2.1.4"
      }
     },
     "0cb9481fce2a48cc966d732c66102abd": {
      "model_module": "jupyter-js-widgets",
      "model_module_version": "~2.1.4",
      "model_name": "IntSliderModel",
      "state": {
       "_model_module_version": "~2.1.4",
       "_view_module_version": "~2.1.4",
       "description": "N",
       "layout": "IPY_MODEL_46c87a1aa4e74e929476bf1ca355756b",
       "max": 1500,
       "min": 1,
       "style": "IPY_MODEL_0434f89ab04c4d93b499d8ee4a4fce81",
       "value": 750
      }
     },
     "219f6a6046364d51b9d7aa8bdad4246b": {
      "model_module": "jupyter-js-widgets",
      "model_module_version": "~2.1.4",
      "model_name": "ButtonModel",
      "state": {
       "_model_module_version": "~2.1.4",
       "_view_module_version": "~2.1.4",
       "description": "Run Interact",
       "layout": "IPY_MODEL_548dc5d21b6f4b65bd528f36bc593468",
       "style": "IPY_MODEL_d89cf49948564f34804d7b4d43148c2e"
      }
     },
     "22e988e21b5547a3adcdeb593de5d6de": {
      "model_module": "jupyter-js-widgets",
      "model_module_version": "~2.1.4",
      "model_name": "FloatSliderModel",
      "state": {
       "_model_module_version": "~2.1.4",
       "_view_module_version": "~2.1.4",
       "description": "mean",
       "layout": "IPY_MODEL_bf50a48dcb004f97a6de506ddd222a03",
       "max": 3,
       "min": 0.5,
       "step": 0.1,
       "value": 1.75
      }
     },
     "2df119e42e2247768dce15a9c4a14899": {
      "model_module": "jupyter-js-widgets",
      "model_module_version": "~2.1.4",
      "model_name": "SliderStyleModel",
      "state": {
       "_model_module_version": "~2.1.4",
       "_view_module_version": "~2.1.4"
      }
     },
     "33dd11c68a0c49398c2db6a95ce70386": {
      "model_module": "jupyter-js-widgets",
      "model_module_version": "~2.1.4",
      "model_name": "LayoutModel",
      "state": {
       "_model_module_version": "~2.1.4",
       "_view_module_version": "~2.1.4"
      }
     },
     "3a3e1477b3e2452d934b1203980f6947": {
      "model_module": "jupyter-js-widgets",
      "model_module_version": "~2.1.4",
      "model_name": "IntSliderModel",
      "state": {
       "_model_module_version": "~2.1.4",
       "_view_module_version": "~2.1.4",
       "description": "N",
       "layout": "IPY_MODEL_09e9863d6ae74b0da5a80dd7e5f066ca",
       "max": 1500,
       "min": 1,
       "style": "IPY_MODEL_2df119e42e2247768dce15a9c4a14899",
       "value": 750
      }
     },
     "46c87a1aa4e74e929476bf1ca355756b": {
      "model_module": "jupyter-js-widgets",
      "model_module_version": "~2.1.4",
      "model_name": "LayoutModel",
      "state": {
       "_model_module_version": "~2.1.4",
       "_view_module_version": "~2.1.4"
      }
     },
     "548dc5d21b6f4b65bd528f36bc593468": {
      "model_module": "jupyter-js-widgets",
      "model_module_version": "~2.1.4",
      "model_name": "LayoutModel",
      "state": {
       "_model_module_version": "~2.1.4",
       "_view_module_version": "~2.1.4"
      }
     },
     "67b8b60e078c4161826026451fb5c094": {
      "model_module": "jupyter-js-widgets",
      "model_module_version": "~2.1.4",
      "model_name": "VBoxModel",
      "state": {
       "_dom_classes": [
        "widget-interact"
       ],
       "_model_module_version": "~2.1.4",
       "_view_module_version": "~2.1.4",
       "children": [
        "IPY_MODEL_0087059a5bf841c4b6a46e004489c692",
        "IPY_MODEL_3a3e1477b3e2452d934b1203980f6947",
        "IPY_MODEL_05222c8eb32f4b21a14908e15d1231df",
        "IPY_MODEL_84013486fab047bc9935340da46920e8"
       ],
       "layout": "IPY_MODEL_dff634761b9947999f6fc5ec9c2e1a4b"
      }
     },
     "84013486fab047bc9935340da46920e8": {
      "model_module": "jupyter-js-widgets",
      "model_module_version": "~2.1.4",
      "model_name": "OutputModel",
      "state": {
       "_dom_classes": [],
       "_model_module": "jupyter-js-widgets",
       "_model_module_version": "~2.1.4",
       "_view_module": "jupyter-js-widgets",
       "_view_module_version": "~2.1.4",
       "layout": "IPY_MODEL_8c07bc3887674ccf8df3bf8b934801d7",
       "msg_throttle": 1
      }
     },
     "8c07bc3887674ccf8df3bf8b934801d7": {
      "model_module": "jupyter-js-widgets",
      "model_module_version": "~2.1.4",
      "model_name": "LayoutModel",
      "state": {
       "_model_module_version": "~2.1.4",
       "_view_module_version": "~2.1.4"
      }
     },
     "a363cf7e2ff74765acaa6131d2c6a297": {
      "model_module": "jupyter-js-widgets",
      "model_module_version": "~2.1.4",
      "model_name": "LayoutModel",
      "state": {
       "_model_module_version": "~2.1.4",
       "_view_module_version": "~2.1.4"
      }
     },
     "a6c87e516c68469780b36afea26cb16b": {
      "model_module": "jupyter-js-widgets",
      "model_module_version": "~2.1.4",
      "model_name": "LayoutModel",
      "state": {
       "_model_module_version": "~2.1.4",
       "_view_module_version": "~2.1.4"
      }
     },
     "a8b918efc9e947c7bd6813804f36e9a4": {
      "model_module": "jupyter-js-widgets",
      "model_module_version": "~2.1.4",
      "model_name": "VBoxModel",
      "state": {
       "_dom_classes": [
        "widget-interact"
       ],
       "_model_module_version": "~2.1.4",
       "_view_module_version": "~2.1.4",
       "children": [
        "IPY_MODEL_22e988e21b5547a3adcdeb593de5d6de",
        "IPY_MODEL_0cb9481fce2a48cc966d732c66102abd",
        "IPY_MODEL_219f6a6046364d51b9d7aa8bdad4246b",
        "IPY_MODEL_eced673b69a543f0854ea664985093bb"
       ],
       "layout": "IPY_MODEL_a363cf7e2ff74765acaa6131d2c6a297"
      }
     },
     "bf50a48dcb004f97a6de506ddd222a03": {
      "model_module": "jupyter-js-widgets",
      "model_module_version": "~2.1.4",
      "model_name": "LayoutModel",
      "state": {
       "_model_module_version": "~2.1.4",
       "_view_module_version": "~2.1.4"
      }
     },
     "c028d8c31d4f4886a12d9f03700d12cd": {
      "model_module": "jupyter-js-widgets",
      "model_module_version": "~2.1.4",
      "model_name": "LayoutModel",
      "state": {
       "_model_module_version": "~2.1.4",
       "_view_module_version": "~2.1.4"
      }
     },
     "d89cf49948564f34804d7b4d43148c2e": {
      "model_module": "jupyter-js-widgets",
      "model_module_version": "~2.1.4",
      "model_name": "ButtonStyleModel",
      "state": {
       "_model_module_version": "~2.1.4",
       "_view_module_version": "~2.1.4"
      }
     },
     "dff634761b9947999f6fc5ec9c2e1a4b": {
      "model_module": "jupyter-js-widgets",
      "model_module_version": "~2.1.4",
      "model_name": "LayoutModel",
      "state": {
       "_model_module_version": "~2.1.4",
       "_view_module_version": "~2.1.4"
      }
     },
     "eced673b69a543f0854ea664985093bb": {
      "model_module": "jupyter-js-widgets",
      "model_module_version": "~2.1.4",
      "model_name": "OutputModel",
      "state": {
       "_dom_classes": [],
       "_model_module": "jupyter-js-widgets",
       "_model_module_version": "~2.1.4",
       "_view_module": "jupyter-js-widgets",
       "_view_module_version": "~2.1.4",
       "layout": "IPY_MODEL_a6c87e516c68469780b36afea26cb16b",
       "msg_throttle": 1
      }
     },
     "f2eb1347969b481d899412e3a427448c": {
      "model_module": "jupyter-js-widgets",
      "model_module_version": "~2.1.4",
      "model_name": "ButtonStyleModel",
      "state": {
       "_model_module_version": "~2.1.4",
       "_view_module_version": "~2.1.4"
      }
     }
    },
    "version_major": 1,
    "version_minor": 0
   }
  }
 },
 "nbformat": 4,
 "nbformat_minor": 2
}
