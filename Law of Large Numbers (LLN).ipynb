{
 "cells": [
  {
   "cell_type": "markdown",
   "metadata": {},
   "source": [
    "# Law of Large Numbers (LLN)"
   ]
  },
  {
   "cell_type": "markdown",
   "metadata": {},
   "source": [
    "This notebook displays the effect of LLN as more data points are sampled. According to the Law of Large Numbers, the average of the results obtained from a large number of trials should be close to the expected value, and will tend to become closer as more trials are performed. (https://en.wikipedia.org/wiki/Law_of_large_numbers)\n",
    "<br> Running the code chunk below, setting the parameters with slidebars and pressing \"Run Interact\" will plot graphs to display the effect of LLN. \n",
    "<br>\n",
    "In this applet, we will sample data points from an exponential distribution.\n",
    "<br>\n",
    "mean: true mean of the exponential distribution\n",
    "<br>\n",
    "N: number of data points to sample "
   ]
  },
  {
   "cell_type": "code",
   "execution_count": 2,
   "metadata": {},
   "outputs": [
    {
     "data": {
      "application/vnd.jupyter.widget-view+json": {
       "model_id": "7b4d0f33573c4d21aba9bfd403d865be"
      }
     },
     "metadata": {},
     "output_type": "display_data"
    },
    {
     "data": {
      "text/html": [
       "<script>\n",
       "code_show=true; \n",
       "function code_toggle() {\n",
       " if (code_show){\n",
       " $('div.input').hide();\n",
       " } else {\n",
       " $('div.input').show();\n",
       " }\n",
       " code_show = !code_show\n",
       "} \n",
       "$( document ).ready(code_toggle);\n",
       "</script>\n",
       "Press Ctrl+Enter or the Run button to activate this applet"
      ],
      "text/plain": [
       "<IPython.core.display.HTML object>"
      ]
     },
     "execution_count": 2,
     "metadata": {},
     "output_type": "execute_result"
    }
   ],
   "source": [
    "from IPython.display import HTML\n",
    "\n",
    "import numpy as np\n",
    "import math \n",
    "import matplotlib.pyplot as plt\n",
    "import ipywidgets as widgets\n",
    "from ipywidgets import interact, interactive, fixed, interact_manual\n",
    "\n",
    "def LLN(mean, N):\n",
    "    \n",
    "    ld = 1.0/mean\n",
    "    \n",
    "    print (\"First, the data would be sampled from the following exponential distribution.\")\n",
    "    print (\"The mean of your choice is shown with the vertical green line.\")\n",
    "    # first plot the true exponential distribution\n",
    "    x = np.linspace(0, 7, 100)\n",
    "    y = ld * np.exp(-ld * x)\n",
    "    plt.plot(x, y)\n",
    "    plt.xlabel(\"x\")\n",
    "    plt.ylabel(\"P(x)\")\n",
    "    plt.title(\"exponential distribution with lambda: \" + str(round(ld, 2)))\n",
    "    plt.axvline(x=1 / float(ld), color='g', label='mean(1/lambda) = ' + str(round(1/float(ld), 2)))\n",
    "    plt.legend()\n",
    "    plt.show()\n",
    "\n",
    "    avgs = []\n",
    "    rds = []\n",
    "    for i in range(1, N+1):\n",
    "        rd = round(np.random.exponential(1/float(ld), 1)[0], 2)\n",
    "        rds.append(rd)\n",
    "        avgs.append(np.mean(rds))\n",
    "    \n",
    "    Ns = []\n",
    "    sampleavgs = []\n",
    "    \n",
    "    print (\"These values below illustrate how the average changes as more samples are added\")\n",
    "    if N >= 1:\n",
    "        Ns.append(1)\n",
    "        sampleavgs.append(np.mean([rds[0]]))\n",
    "        print (\"first 1 sample:\", [rds[0]], \"-> average:\", np.mean([rds[0]]))    \n",
    "        if N >= 5:\n",
    "            Ns.append(5)\n",
    "            sampleavgs.append(np.mean(rds[:5]))    \n",
    "            print (\"first 5 samples:\", rds[:5], \"-> average:\", np.mean(rds[:5]))\n",
    "            if N >= 10:\n",
    "                Ns.append(10)\n",
    "                sampleavgs.append(np.mean(rds[:10])) \n",
    "                print (\"first 10 samples:\", rds[:10], \"-> average:\", np.mean(rds[:10]))\n",
    "                if N >= 100:\n",
    "                    Ns.append(100)\n",
    "                    sampleavgs.append(np.mean(rds[:100])) \n",
    "                    print (\"first 100 samples: average:\", np.mean(rds[:100]))\n",
    "                    if N >= 200: \n",
    "                        Ns.append(200)\n",
    "                        sampleavgs.append(np.mean(rds[:200])) \n",
    "                        print (\"first 200 samples: average:\", np.mean(rds[:200]))                        \n",
    "    \n",
    "    print (\"\\nThe two plots below display the changing trend of the averages as N gets larger.\")\n",
    "    print (\"The example averages shown above are marked with red dots.\")\n",
    "    print (\"The left plot is a zoomed-in version to display the red dots more clearly, the right plot shows the full trend\")\n",
    "    print (\"Observe that as N gets very large, the average nearly converges to the true mean indicated by the green line\")\n",
    "    f, axarr = plt.subplots(1, 2, figsize=(20,5), sharey=True)\n",
    "    \n",
    "    axarr[0].plot(Ns, sampleavgs, 'ro')\n",
    "    axarr[0].plot(range(1, max(Ns)+1), avgs[:max(Ns)])\n",
    "    axarr[0].set_xlabel(\"N\")\n",
    "    axarr[0].set_ylabel(\"average\")    \n",
    "    \n",
    "    axarr[1].plot(Ns, sampleavgs, 'ro')\n",
    "    axarr[1].plot(range(1, N+1), avgs)\n",
    "    axarr[1].set_xlim(0, 1500)\n",
    "    axarr[1].axhline(y=round(1/float(ld), 2), color='g', label='mean(1/lambda) = ' + str(round(1/float(ld), 2)))\n",
    "    axarr[1].legend()\n",
    "    axarr[1].set_xlabel(\"N\")\n",
    "    axarr[1].set_ylabel(\"average\")\n",
    "    plt.show()\n",
    "\n",
    "interact_manual(LLN,mean=(0.5, 3), N=(1, 1500))    \n",
    "    \n",
    "    \n",
    "HTML('''<script>\n",
    "code_show=true; \n",
    "function code_toggle() {\n",
    " if (code_show){\n",
    " $('div.input').hide();\n",
    " } else {\n",
    " $('div.input').show();\n",
    " }\n",
    " code_show = !code_show\n",
    "} \n",
    "$( document ).ready(code_toggle);\n",
    "</script>\n",
    "Press Ctrl+Enter or the Run button to activate this applet''')"
   ]
  },
  {
   "cell_type": "code",
   "execution_count": null,
   "metadata": {
    "collapsed": true
   },
   "outputs": [],
   "source": []
  }
 ],
 "metadata": {
  "kernelspec": {
   "display_name": "Python 2",
   "language": "python",
   "name": "python2"
  },
  "language_info": {
   "codemirror_mode": {
    "name": "ipython",
    "version": 2
   },
   "file_extension": ".py",
   "mimetype": "text/x-python",
   "name": "python",
   "nbconvert_exporter": "python",
   "pygments_lexer": "ipython2",
   "version": "2.7.13"
  }
 },
 "nbformat": 4,
 "nbformat_minor": 2
}
