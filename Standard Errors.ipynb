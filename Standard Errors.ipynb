{
 "cells": [
  {
   "cell_type": "markdown",
   "metadata": {},
   "source": [
    "# Standard Errors"
   ]
  },
  {
   "cell_type": "markdown",
   "metadata": {},
   "source": [
    "This notebook displays how the usual Ordinary Least Squares (OLS) estimator for the standard error of slope $\\hat{\\beta}$, $SE(\\hat{\\beta})$ fails to be an accurate and consistent estimator, when the error $\\epsilon$ from the model $Y = \\beta X + \\epsilon$ is not homoscedastic (consistent variance for $\\epsilon$ across different values of X). \n",
    "For heteroscedastic (inconsistent variance) or clustered data (each cluster has a distinct variance for the errors), \n",
    "\n",
    "- heteroscedasticity-consistent (https://en.wikipedia.org/wiki/Heteroscedasticity-consistent_standard_errors) estimators or \n",
    "- cluster-robust (http://cameron.econ.ucdavis.edu/research/Cameron_Miller_JHR_2015_February.pdf) estimators should be used instead.\n",
    "\n",
    "To create the visualization, click on the code block below, and run that block by clicking on the 'run cell' button marked with red on the following image.\n",
    "\n",
    "![title](Menu.PNG)\n",
    "\n",
    "Running the code cell for the first time may take a while. Once the run is complete, you'll see some slidebars/dropdown menus along with the 'Run Interact' button. Adjust the parameters, and then press the button to see the visualization."
   ]
  },
  {
   "cell_type": "code",
   "execution_count": 1,
   "metadata": {},
   "outputs": [
    {
     "name": "stderr",
     "output_type": "stream",
     "text": [
      "C:\\Anaconda\\lib\\site-packages\\statsmodels\\compat\\pandas.py:56: FutureWarning: The pandas.core.datetools module is deprecated and will be removed in a future version. Please use the pandas.tseries module instead.\n",
      "  from pandas.core import datetools\n",
      "Widget Javascript not detected.  It may not be installed or enabled properly.\n"
     ]
    },
    {
     "data": {
      "application/vnd.jupyter.widget-view+json": {
       "model_id": "00d78c02cda949f2a59c21b2881e4d1f"
      }
     },
     "metadata": {},
     "output_type": "display_data"
    },
    {
     "data": {
      "text/plain": [
       "<function visfunctions.SE>"
      ]
     },
     "execution_count": 1,
     "metadata": {},
     "output_type": "execute_result"
    }
   ],
   "source": [
    "import ipywidgets as widgets\n",
    "from visfunctions import SE\n",
    "from ipywidgets import interact_manual\n",
    "        \n",
    "interact_manual(SE, option=widgets.Dropdown(options=['Homoscedastic', 'Heteroscedastic', 'Clustered'], description=\"data type:\"))"
   ]
  },
  {
   "cell_type": "markdown",
   "metadata": {
    "collapsed": true
   },
   "source": [
    "- For a homoscedastic data, the OLS estimator for $SE(\\hat{\\beta})$ is an accurate estimate.\n",
    "- For a heteroscedastic data, the OLS estimator does not provide a consistent estimate of the true variance. Instead, the heteroscedasticity-consistent estimate should be used. (Observe the difference between an OLS estimate and the heteroscedasticity-consistent estimate)\n",
    "- For a clustered data, using non-cluster-robust estimate tends to underestimate the true variance of $SE(\\hat{\\beta})$. Instead, a cluster-robust estimate provides a better estimate. (Observe that the first two estimates wrongly estimate the standard error to be smaller, compared to the cluster-robust estimate)"
   ]
  }
 ],
 "metadata": {
  "kernelspec": {
   "display_name": "Python 2",
   "language": "python",
   "name": "python2"
  },
  "language_info": {
   "codemirror_mode": {
    "name": "ipython",
    "version": 2
   },
   "file_extension": ".py",
   "mimetype": "text/x-python",
   "name": "python",
   "nbconvert_exporter": "python",
   "pygments_lexer": "ipython2",
   "version": "2.7.13"
  }
 },
 "nbformat": 4,
 "nbformat_minor": 2
}
