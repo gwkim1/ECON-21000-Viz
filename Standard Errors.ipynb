{
 "cells": [
  {
   "cell_type": "markdown",
   "metadata": {},
   "source": [
    "# Standard Errors"
   ]
  },
  {
   "cell_type": "code",
   "execution_count": 20,
   "metadata": {},
   "outputs": [
    {
     "data": {
      "application/vnd.jupyter.widget-view+json": {
       "model_id": "dba76b1f270e435390a66aca232b04f3"
      }
     },
     "metadata": {},
     "output_type": "display_data"
    },
    {
     "data": {
      "text/plain": [
       "<function __main__.SE>"
      ]
     },
     "execution_count": 20,
     "metadata": {},
     "output_type": "execute_result"
    }
   ],
   "source": [
    "import numpy as np\n",
    "import math \n",
    "import matplotlib.pyplot as plt\n",
    "import ipywidgets as widgets\n",
    "from ipywidgets import interact, interactive, fixed, interact_manual\n",
    "import scipy.stats as stats\n",
    "from sklearn import datasets, linear_model\n",
    "\n",
    "def SE(option):\n",
    "    alpha = 0.5\n",
    "    beta = 2\n",
    "    N = 300\n",
    "    regr = linear_model.LinearRegression()\n",
    "    \n",
    "    X = np.linspace(-3, 3, N)\n",
    "    Y1 = [alpha + beta * xx + np.random.normal(0, 2) for xx in X]\n",
    "    Y2 = [alpha + beta * xx + np.random.normal(0, 2) * (xx+3)/3 for xx in X]    \n",
    "    X = np.array(X)\n",
    "    Y1 = np.array(Y1)\n",
    "    Y2 = np.array(Y2)\n",
    "\n",
    "    fig = plt.figure(figsize=(20, 7))    \n",
    "    ax1 = fig.add_subplot(1, 2, 1)\n",
    "    ax2 = fig.add_subplot(1, 2, 2)   \n",
    "    \n",
    "\n",
    "\n",
    "\n",
    "    cov = np.zeros((300, 300))\n",
    "    for i in range(300):\n",
    "        cov[i][i] = 1\n",
    "    Yhomo = np.random.multivariate_normal(np.zeros(300), cov)\n",
    "\n",
    "    #xx = np.linspace(-1, 1, 300)\n",
    "    xx = np.random.normal(0, 1, 300)\n",
    "    yy = [alpha + x * beta + y for x, y in zip(xx, Yhomo)]\n",
    "    #yyy = [alpha + x * beta for x in xx]\n",
    "    regr.fit(np.array(xx).reshape(N, 1), np.array(yy).reshape(N, 1))\n",
    "    yyy = [regr.intercept_ + x * regr.coef_[0] for x in xx]\n",
    "    residuals = [y - (regr.intercept_ + x * regr.coef_[0]) for x, y in zip(xx, yy)]\n",
    "    betahomo = regr.coef_[0][0]\n",
    "    sehomo = 1 / sum([(x - np.mean(xx))**2 for x in xx])\n",
    "\n",
    "    if option == 'Homoscedastic':    \n",
    "        ax1.plot(xx, yy, 'o')\n",
    "        ax1.plot(xx, yyy)\n",
    "       \n",
    "        ax2.plot(residuals, 'o')\n",
    "        ax2.axhline(y=0, c='C1')\n",
    "        plt.show()\n",
    "\n",
    "\n",
    "\n",
    "\n",
    "\n",
    "\n",
    "    cov = np.zeros((300, 300))\n",
    "    for i in range(300):\n",
    "        cov[i][i] = (i+1)/150.0\n",
    "    Yhetero = np.random.multivariate_normal(np.zeros(300), cov) #increasing variance by index\n",
    "\n",
    "    #xx = np.linspace(-1, 1, 300)\n",
    "    xx = sorted(np.random.normal(0, 1, 300))\n",
    "    yy = [alpha + x * beta + y for x, y in zip(xx, Yhetero)]\n",
    "    #yyy = [alpha + x * beta for x in xx]\n",
    "    regr.fit(np.array(xx).reshape(N, 1), np.array(yy).reshape(N, 1))\n",
    "    yyy = [regr.intercept_ + x * regr.coef_[0] for x in xx]        \n",
    "    residuals = [y - (regr.intercept_ + x * regr.coef_[0]) for x, y in zip(xx, yy)]\n",
    "    betahetero = regr.coef_[0][0]\n",
    "    sehetero = 1 / np.dot(xx, xx) * sum([resid**2 * x**2 for resid, x in zip(residuals, xx)]) * 1 / np.dot(xx, xx)\n",
    "    sehetero = sehetero[0]\n",
    "\n",
    "    if option == 'Heteroscedastic': \n",
    "        ax1.plot(xx, yy, 'o')\n",
    "        ax1.plot(xx, yyy)\n",
    "        ax2.plot(residuals, 'o')\n",
    "        ax2.axhline(y=0, c='C1')\n",
    "        plt.show()\n",
    "\n",
    "\n",
    "\n",
    "\n",
    "    xx = np.random.normal(0, 1, 300)\n",
    "    eps1 = np.random.normal(0, np.random.rand()*4+0.5, 100)\n",
    "    eps2 = np.random.normal(0, np.random.rand()*4+0.5, 100)\n",
    "    eps3 = np.random.normal(0, np.random.rand()*4+0.5, 100)\n",
    "    Y1 = [alpha + beta*x + e for x, e in zip(xx[:100], eps1)]\n",
    "    Y2 = [alpha + beta*x + e for x, e in zip(xx[100:200], eps2)]        \n",
    "    Y3 = [alpha + beta*x + e for x, e in zip(xx[:200], eps3)]\n",
    "    yy = np.hstack((Y1, Y2, Y3))\n",
    "    regr.fit(np.array(xx).reshape(N, 1), yy.reshape(N, 1))\n",
    "    yyy = [regr.intercept_ + x * regr.coef_[0] for x in xx]  \n",
    "    r1 = [y - (regr.intercept_ + x * regr.coef_[0][0]) for x, y in zip(xx, Y1)]\n",
    "    r2 = [y - (regr.intercept_ + x * regr.coef_[0][0]) for x, y in zip(xx, Y2)]\n",
    "    r3 = [y - (regr.intercept_ + x * regr.coef_[0][0]) for x, y in zip(xx, Y3)]\n",
    "    residuals = np.vstack((r1, r2, r3))\n",
    "\n",
    "    middleterm = 0\n",
    "    for i in range(3):\n",
    "        middleterm += np.vdot(xx[100*i:100*(i+1)], residuals[100*i:100*(i+1)])**2\n",
    "\n",
    "    betacluster = regr.coef_[0][0]\n",
    "    secluster = 1 / np.dot(xx, xx) * middleterm * 1 / np.dot(xx, xx)\n",
    "\n",
    "    if option == \"Cluster-Robust\":\n",
    "        ax1.plot(xx[:100], Y1, 'bo')\n",
    "        ax1.plot(xx[100:200], Y2, 'ro')\n",
    "        ax1.plot(xx[200:], Y3, 'go')\n",
    "        ax1.plot(xx, yyy, 'C1')\n",
    "\n",
    "        ax2.plot(r1, 'bo')\n",
    "        ax2.plot(r2, 'ro')\n",
    "        ax2.plot(r3, 'go')\n",
    "        ax2.axhline(y=0, c='C1')\n",
    "        plt.plot()\n",
    "        plt.show()\n",
    "\n",
    "    print (\"Estimated betahats: \" + str(betahomo) + \" \" + str(betahetero) + \" \" + str(betacluster))\n",
    "    print (\"Variance of betahats: \" + str(sehomo) + \" \" + str(sehetero) + \" \" + str(secluster))        \n",
    "\n",
    "interact_manual(SE, option=widgets.Dropdown(options=['Homoscedastic', 'Heteroscedastic', 'Cluster-Robust']))"
   ]
  },
  {
   "cell_type": "code",
   "execution_count": null,
   "metadata": {
    "collapsed": true
   },
   "outputs": [],
   "source": []
  }
 ],
 "metadata": {
  "kernelspec": {
   "display_name": "Python 2",
   "language": "python",
   "name": "python2"
  },
  "language_info": {
   "codemirror_mode": {
    "name": "ipython",
    "version": 2
   },
   "file_extension": ".py",
   "mimetype": "text/x-python",
   "name": "python",
   "nbconvert_exporter": "python",
   "pygments_lexer": "ipython2",
   "version": "2.7.13"
  }
 },
 "nbformat": 4,
 "nbformat_minor": 2
}
