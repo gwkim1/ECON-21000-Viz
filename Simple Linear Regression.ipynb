{
 "cells": [
  {
   "cell_type": "markdown",
   "metadata": {},
   "source": [
    "# Consistency & Asymptotic Normality of Simple Linear Regression (SLR)"
   ]
  },
  {
   "cell_type": "markdown",
   "metadata": {},
   "source": [
    "This notebook displays two properties of simple linear regression's estimator: $\\hat{\\beta}$.\n",
    "\n",
    "1. Consistency: $\\hat{\\beta} \\rightarrow \\beta$ with large enough N (number of sampled data points).\n",
    "2. Asymptotic Normality: the distribution of $\\hat{\\beta}$s would resemble a normal distribution with large enough N.\n",
    "\n",
    "Run the code chunk below, adjust the slidebars and press \"Run Interact\" to create the visualizations. "
   ]
  },
  {
   "cell_type": "code",
   "execution_count": 2,
   "metadata": {},
   "outputs": [
    {
     "data": {
      "application/vnd.jupyter.widget-view+json": {
       "model_id": "27e6033b641d491dbb6babcd5b958d9d"
      }
     },
     "metadata": {},
     "output_type": "display_data"
    },
    {
     "data": {
      "text/plain": [
       "<function __main__.SLR>"
      ]
     },
     "execution_count": 2,
     "metadata": {},
     "output_type": "execute_result"
    }
   ],
   "source": [
    "import numpy as np\n",
    "import math \n",
    "import matplotlib.pyplot as plt\n",
    "import ipywidgets as widgets\n",
    "from ipywidgets import interact, interactive, fixed, interact_manual\n",
    "import scipy.stats as stats\n",
    "from sklearn import datasets, linear_model\n",
    "\n",
    "def SLR(N):\n",
    "\n",
    "    # generate random 2d data\n",
    "    beta0 = 0.5\n",
    "    beta1 = 2.0\n",
    "\n",
    "    print (\"The set of N=\" +str(N)+ \" sampled points shown below are sampled based on Y=2X+0.5 with noise\")\n",
    "    print (\"The orange line indicates a fitted regression line based on the sample. It may not exactly be equal to Y=2X+0.5\")\n",
    "    \n",
    "    sampleX = np.random.rand(N)\n",
    "    sampleY = np.array([beta0 + x * beta1 + -2 + np.random.rand(1)*4 for x in sampleX])\n",
    "    sampleX = sampleX.reshape(N, 1)\n",
    "    sampleY = sampleY.reshape(N, 1)\n",
    "    plt.plot(sampleX, sampleY, 'o')\n",
    "    \n",
    "    regr = linear_model.LinearRegression()\n",
    "    regr.fit(sampleX.reshape(N, 1), sampleY.reshape(N, 1))\n",
    "\n",
    "    xx = np.linspace(0, 1, 300)\n",
    "    yy = [regr.intercept_ + x * regr.coef_[0] for x in xx]\n",
    "    plt.plot(xx, yy)\n",
    "    plt.xlabel(\"X\")\n",
    "    plt.ylabel(\"Y\")\n",
    "    plt.show()\n",
    "\n",
    "    betahats = []\n",
    "    meanbetahats = []\n",
    "    for i in range(2, N):\n",
    "        sX = sampleX[:i+1]\n",
    "        sY = np.array([beta0 + x * beta1 + -1 + np.random.rand(1)*2 for x in sX])\n",
    "        xbar = np.mean(sX)\n",
    "        ybar = np.mean(sY)\n",
    "\n",
    "        cov = np.cov(np.vstack((sX.reshape(1, i+1), sY.reshape(1, i+1))))\n",
    "        betahat = cov[0][1] / cov[0][0]\n",
    "        betahats.append(betahat)\n",
    "        meanbetahats.append(np.mean(betahats))\n",
    "\n",
    "        \n",
    "    print (\"The plot below displays how betahat converges to the true beta=2,\")\n",
    "    print (\"as more and more samples are used to fit a regression line.\")\n",
    "    print (\"Thus, the estimator betahat is consistent.\")\n",
    "        \n",
    "    plt.plot(meanbetahats)\n",
    "    plt.xlabel(\"N (number of samples used)\")\n",
    "    plt.ylabel(\"betahat of fitted line\")\n",
    "    plt.axhline(y=2, color='r')\n",
    "    plt.show()\n",
    "\n",
    "    \n",
    "    betahats = []\n",
    "    for i in range(100):\n",
    "    \n",
    "        sampleX = np.random.rand(N)\n",
    "        sampleY = np.array([beta0 + x * beta1 + -2 + np.random.rand(1)*4 for x in sampleX])\n",
    "        regr = linear_model.LinearRegression()\n",
    "        regr.fit(sampleX.reshape(N, 1), sampleY.reshape(N, 1))\n",
    "        betahats.append(regr.coef_[0][0])\n",
    "    \n",
    "    var = np.var(betahats)\n",
    "    xx = np.linspace(min(betahats), max(betahats), 300)\n",
    "    yy = [ 1 / math.sqrt(2 * math.pi * var) * math.exp( - (x-2.0)**2 / (2 * var) ) for x in xx ]\n",
    "    \n",
    "    print (\"Now, N=\"+str(N) + \" points are sampled 100 times, creating 100 fitted lines with betahats\")\n",
    "    print (\"The distribution of betahats would resemble a normal distribution with a large enough N (by CLT)\")\n",
    "    \n",
    "    plt.plot(xx, yy)\n",
    "    plt.hist(betahats, normed=True)\n",
    "    plt.xlabel(\"value of betahats\")\n",
    "    plt.ylabel(\"relative frequency\")\n",
    "    plt.show()\n",
    "    \n",
    "interact_manual(SLR, N=(3, 200))"
   ]
  }
 ],
 "metadata": {
  "kernelspec": {
   "display_name": "Python 2",
   "language": "python",
   "name": "python2"
  },
  "language_info": {
   "codemirror_mode": {
    "name": "ipython",
    "version": 2
   },
   "file_extension": ".py",
   "mimetype": "text/x-python",
   "name": "python",
   "nbconvert_exporter": "python",
   "pygments_lexer": "ipython2",
   "version": "2.7.13"
  }
 },
 "nbformat": 4,
 "nbformat_minor": 2
}
