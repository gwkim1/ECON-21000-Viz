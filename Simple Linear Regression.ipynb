{
 "cells": [
  {
   "cell_type": "markdown",
   "metadata": {},
   "source": [
    "# Consistency & Asymptotic Normality of Simple Linear Regression (SLR)"
   ]
  },
  {
   "cell_type": "markdown",
   "metadata": {},
   "source": [
    "This notebook displays two properties of simple linear regression's estimator: $\\hat{\\beta}$.\n",
    "\n",
    "1. Consistency: $\\hat{\\beta} \\rightarrow \\beta$ with large enough N (number of sampled data points).\n",
    "2. Asymptotic Normality: the distribution of $\\hat{\\beta}$s would resemble a normal distribution with large enough N.\n",
    "\n",
    "To create the visualization, click on the code block below, and run that block by clicking on the 'run cell' button marked with red on the following image.\n",
    "\n",
    "![title](Menu.PNG)\n",
    "\n",
    "Running the code cell for the first time may take a while. Once the run is complete, you'll see some slidebars/dropdown menus along with the 'Run Interact' button. Adjust the parameters, and then press the button to see the visualization."
   ]
  },
  {
   "cell_type": "code",
   "execution_count": 1,
   "metadata": {},
   "outputs": [
    {
     "data": {
      "application/vnd.jupyter.widget-view+json": {
       "model_id": "4ce57383abbf4eeeaa1bb69c83affa60"
      }
     },
     "metadata": {},
     "output_type": "display_data"
    },
    {
     "data": {
      "text/plain": [
       "<function visfunctions.SLR>"
      ]
     },
     "execution_count": 1,
     "metadata": {},
     "output_type": "execute_result"
    }
   ],
   "source": [
    "from visfunctions import SLR\n",
    "from ipywidgets import interact_manual\n",
    "    \n",
    "interact_manual(SLR, N=(3, 500))"
   ]
  }
 ],
 "metadata": {
  "kernelspec": {
   "display_name": "Python 2",
   "language": "python",
   "name": "python2"
  },
  "language_info": {
   "codemirror_mode": {
    "name": "ipython",
    "version": 2
   },
   "file_extension": ".py",
   "mimetype": "text/x-python",
   "name": "python",
   "nbconvert_exporter": "python",
   "pygments_lexer": "ipython2",
   "version": "2.7.13"
  }
 },
 "nbformat": 4,
 "nbformat_minor": 2
}
