{
 "cells": [
  {
   "cell_type": "markdown",
   "metadata": {},
   "source": [
    "# Central Limit Theorem (CLT)"
   ]
  },
  {
   "cell_type": "markdown",
   "metadata": {},
   "source": [
    "This notebook displays the effect of CLT as more data points are sampled. The Central Limit Theorem states that when independent random variables are added, their properly normalized sum tends toward a normal distribution (informally a \"bell curve\") even if the original variables themselves are not normally distributed. (https://en.wikipedia.org/wiki/Central_limit_theorem)\n",
    "<br> Run the code chunk below for setup. In this applet, we will sample data points from an exponential distribution."
   ]
  },
  {
   "cell_type": "code",
   "execution_count": 1,
   "metadata": {
    "collapsed": true
   },
   "outputs": [],
   "source": [
    "import numpy as np\n",
    "import math \n",
    "import matplotlib.pyplot as plt\n",
    "import ipywidgets as widgets\n",
    "from ipywidgets import interact, interactive, fixed, interact_manual\n",
    "\n",
    "def CLT(mean, N):\n",
    "    \n",
    "    ld = 1.0/mean\n",
    "    \n",
    "    print (\"First, the data would be sampled from the following exponential distribution.\")\n",
    "    print (\"The mean of your choice is shown with the vertical green line.\")\n",
    "    x = np.linspace(0, 7, 100)\n",
    "    y = ld * np.exp(-ld * x)\n",
    "    plt.plot(x, y)\n",
    "    plt.xlabel(\"x\")\n",
    "    plt.ylabel(\"P(x)\")\n",
    "    plt.title(\"exponential distribution with lambda: \" + str(round(ld, 2)))\n",
    "    plt.axvline(x=1 / float(ld), color='g', label='mean(1/lambda) = ' + str(round(1/float(ld), 2)))\n",
    "    plt.legend()\n",
    "    plt.show()    \n",
    "    \n",
    "    rds = np.random.exponential(mean, size=400)\n",
    "    avg5s = []\n",
    "    for i in range(400/5):\n",
    "        avg5s.append(np.mean(rds[5*i:5*(i+1)+1]))\n",
    "\n",
    "    print (\"The histogram of individual samples and the histogram of their averages (by groups of 5) will be compared.\")\n",
    "    print (\"400 data points were sampled in total, and each group of 5 produced an average, for example:\")\n",
    "    for i in range(5):\n",
    "        print (\"samples\", str(5*i+1), \"~\", str(5*(i+1)), \": \", rds[5*i:5*(i+1)], \"-> average:\", avg5s[i])\n",
    "    print (\"...\")\n",
    "    print (\"samples 396 ~ 400 :\", rds[395:], \"-> average:\", avg5s[-1])\n",
    "    print (\"\\nThe histograms of individual samples and the 5-averages are shown below.\")    \n",
    "    print (\"Observe that while the individual samples correctly resemble the true exponential distribution,\")\n",
    "    print (\"and that the distribution of averages look closer to a 'bell curve'.\")\n",
    "    print (\"You can adjust N with the slidebar to see that the 'bell curve' becomes more apparent as N gets larger.\")\n",
    "    \n",
    "    rds = np.random.exponential(mean, size=400*N)\n",
    "    avgNs = []\n",
    "    for i in range(400):\n",
    "        avgNs.append(np.mean(rds[N*i:N*(i+1)])) \n",
    "    \n",
    "    plt.figure(figsize=(12, 5))\n",
    "    plt.hist([rds, avg5s, avgNs], \n",
    "             label=[\"individual samples\", \"averages of 5 samples\", \"averages of N=\" + str(N) + \" samples\"], \n",
    "             bins=60, normed=True)\n",
    "    plt.legend()\n",
    "    plt.xlim(0, 7)\n",
    "    plt.xlabel(\"values of samples/averages\")\n",
    "    plt.ylabel(\"relative frequency\")\n",
    "    plt.show()"
   ]
  },
  {
   "cell_type": "markdown",
   "metadata": {},
   "source": [
    "Running the code chunk below, setting the parameters with slidebars and pressing \"Run Interact\" will plot graphs to display the effect of CLT.\n",
    "<br>\n",
    "mean: true mean of the exponential distribution\n",
    "<br>\n",
    "N: the number of points to get each average value with. (e.g. N=5 averages over 5 points each)"
   ]
  },
  {
   "cell_type": "code",
   "execution_count": 2,
   "metadata": {},
   "outputs": [
    {
     "data": {
      "application/vnd.jupyter.widget-view+json": {
       "model_id": "ca48a77927234995a6a4027eddc7fb0a"
      }
     },
     "metadata": {},
     "output_type": "display_data"
    },
    {
     "data": {
      "text/plain": [
       "<function __main__.CLT>"
      ]
     },
     "execution_count": 2,
     "metadata": {},
     "output_type": "execute_result"
    }
   ],
   "source": [
    "interact_manual(CLT, mean=(0.5, 3), N=(1, 50))"
   ]
  },
  {
   "cell_type": "code",
   "execution_count": null,
   "metadata": {
    "collapsed": true
   },
   "outputs": [],
   "source": []
  }
 ],
 "metadata": {
  "kernelspec": {
   "display_name": "Python 2",
   "language": "python",
   "name": "python2"
  },
  "language_info": {
   "codemirror_mode": {
    "name": "ipython",
    "version": 2
   },
   "file_extension": ".py",
   "mimetype": "text/x-python",
   "name": "python",
   "nbconvert_exporter": "python",
   "pygments_lexer": "ipython2",
   "version": "2.7.13"
  }
 },
 "nbformat": 4,
 "nbformat_minor": 2
}
