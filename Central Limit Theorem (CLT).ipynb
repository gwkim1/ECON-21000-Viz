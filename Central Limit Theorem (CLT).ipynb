{
 "cells": [
  {
   "cell_type": "markdown",
   "metadata": {},
   "source": [
    "# Central Limit Theorem (CLT)"
   ]
  },
  {
   "cell_type": "markdown",
   "metadata": {},
   "source": [
    "This notebook displays the effect of CLT as more data points are sampled. The Central Limit Theorem states that when independent random variables are added, their properly normalized sum tends toward a normal distribution (informally a \"bell curve\") even if the original variables themselves are not normally distributed. (https://en.wikipedia.org/wiki/Central_limit_theorem)\n",
    "<br>\n",
    "Running the code chunk below, setting the parameters with slidebars and pressing \"Run Interact\" will plot graphs to display the effect of CLT. \n",
    "<br>\n",
    "In this applet, we will sample data points from an exponential distribution.\n",
    "<br>\n",
    "mean: true mean of the exponential distribution\n",
    "<br>\n",
    "N: the number of points to get each average value with. (e.g. N=5 will average over groups of 5)"
   ]
  },
  {
   "cell_type": "code",
   "execution_count": 7,
   "metadata": {},
   "outputs": [
    {
     "data": {
      "application/vnd.jupyter.widget-view+json": {
       "model_id": "505988538a014fdfae78cd8c14ad64e3"
      }
     },
     "metadata": {},
     "output_type": "display_data"
    },
    {
     "data": {
      "text/plain": [
       "<function __main__.CLT>"
      ]
     },
     "execution_count": 7,
     "metadata": {},
     "output_type": "execute_result"
    }
   ],
   "source": [
    "import numpy as np\n",
    "import math \n",
    "import matplotlib.pyplot as plt\n",
    "import ipywidgets as widgets\n",
    "from ipywidgets import interact, interactive, fixed, interact_manual\n",
    "\n",
    "def CLT(mean, N):\n",
    "    \n",
    "    ld = 1.0/mean\n",
    "    \n",
    "    print (\"First, the data would be sampled from the following exponential distribution.\")\n",
    "    print (\"The mean of your choice is shown with the vertical green line.\")\n",
    "    x = np.linspace(0, 7, 100)\n",
    "    y = ld * np.exp(-ld * x)\n",
    "    plt.plot(x, y)\n",
    "    plt.xlabel(\"x\")\n",
    "    plt.ylabel(\"P(x)\")\n",
    "    plt.title(\"exponential distribution with lambda: \" + str(round(ld, 2)))\n",
    "    plt.axvline(x=1 / float(ld), color='g', label='mean(1/lambda) = ' + str(round(1/float(ld), 2)))\n",
    "    plt.legend()\n",
    "    plt.show()    \n",
    "    \n",
    "    rds = np.random.exponential(mean, size=300)\n",
    "    avg3s = []\n",
    "    for i in range(100):\n",
    "        avg3s.append(np.mean(rds[3*i:3*(i+1)+1]))\n",
    "\n",
    "    print (\"The histogram of the sample averages (by groups of 3) can be compared with the original distribution.\")\n",
    "    print (\"300 data points were sampled in total, and each group of 3 produced an average, for example:\")\n",
    "    for i in range(4):\n",
    "        print (\"samples \"+str(3*i+1)+\"~\"+str(3*(i+1))+\": \", rds[3*i:3*(i+1)], \"-> average:\", round(avg3s[i], 2))\n",
    "    print (\"...\")\n",
    "    print (\"samples 298~300:\", rds[297:], \"-> average:\", round(avg3s[-1], 2))        \n",
    "\n",
    "    print (\"\\nAnd these are the 100 sample averages (of 3) that will be drawn below:\")\n",
    "    print (map(lambda x: round(x, 2), avg3s))\n",
    "    \n",
    "    rds = np.random.exponential(mean, size=100*N)\n",
    "    avgNs = []\n",
    "    for i in range(100):\n",
    "        avgNs.append(np.mean(rds[N*i:N*(i+1)]))         \n",
    "\n",
    "    print (\"\\nYou can also test with different Ns by using the slidebar. With the current N=\" + str(N) + \\\n",
    "          \", these are the 100 sample averages (of \" + str(N) + \") that will be drawn below:\")\n",
    "    print (map(lambda x: round(x, 2), avgNs))\n",
    "    \n",
    "    plt.subplots(1, 2, figsize=(14, 5))\n",
    "    \n",
    "    plt.subplot(1, 2, 1)\n",
    "    samplemean3 = np.mean(avg3s)\n",
    "    samplevar3 = np.var(avg3s)\n",
    "    x3 = np.linspace(0, 7, 100)\n",
    "    y3 = [ 1 / math.sqrt(2 * math.pi * samplevar3) * math.exp( - (xx-samplemean3)**2 / (2 * samplevar3) ) for xx in x3 ]\n",
    "    plt.plot(x3, y3, label=\"normal distribution for averages of 3\")        \n",
    "    plt.hist(avg3s, label=\"averages of 3 samples\", normed=True)\n",
    "    plt.legend()\n",
    "    plt.xlabel(\"values of samples/averages\")\n",
    "    plt.ylabel(\"relative frequency\")\n",
    "\n",
    "    plt.subplot(1, 2, 2)\n",
    "    samplemeanN = np.mean(avgNs)\n",
    "    samplevarN = np.var(avgNs)\n",
    "    xN = np.linspace(0, 7, 100)\n",
    "    yN = [ 1 / math.sqrt(2 * math.pi * samplevarN) * math.exp( - (xx-samplemeanN)**2 / (2 * samplevarN) ) for xx in xN ]\n",
    "    plt.plot(xN, yN, label=\"normal distribution for averages of N\")    \n",
    "    plt.hist(avgNs, label=\"averages of N=\" + str(N) + \" samples\", normed=True)\n",
    "    plt.legend()\n",
    "    plt.xlabel(\"values of averages\")\n",
    "    plt.ylabel(\"relative frequency\")\n",
    "    plt.show()\n",
    "    \n",
    "    print (\"The histograms of 3-averages and N-averages are shown above.\")    \n",
    "    print (\"Observe that although the data were sampled from an exponential distribution,\")\n",
    "    print (\"the distribution of averages look closer to a normal distribution(bell curve) as N gets larger.\")\n",
    "\n",
    "interact_manual(CLT, mean=(0.5, 3), N=(1, 50))"
   ]
  },
  {
   "cell_type": "code",
   "execution_count": null,
   "metadata": {
    "collapsed": true
   },
   "outputs": [],
   "source": []
  }
 ],
 "metadata": {
  "kernelspec": {
   "display_name": "Python 2",
   "language": "python",
   "name": "python2"
  },
  "language_info": {
   "codemirror_mode": {
    "name": "ipython",
    "version": 2
   },
   "file_extension": ".py",
   "mimetype": "text/x-python",
   "name": "python",
   "nbconvert_exporter": "python",
   "pygments_lexer": "ipython2",
   "version": "2.7.13"
  }
 },
 "nbformat": 4,
 "nbformat_minor": 2
}
