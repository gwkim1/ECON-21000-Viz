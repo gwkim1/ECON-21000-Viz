{
 "cells": [
  {
   "cell_type": "markdown",
   "metadata": {},
   "source": [
    "# Central Limit Theorem (CLT)"
   ]
  },
  {
   "cell_type": "markdown",
   "metadata": {},
   "source": [
    "This notebook displays the effect of CLT as more data points are sampled. The Central Limit Theorem states that when independent random variables are added, their properly normalized sum tends toward a normal distribution (informally a \"bell curve\") even if the original variables themselves are not normally distributed. (https://en.wikipedia.org/wiki/Central_limit_theorem)\n",
    "\n",
    "To create the visualization, click on the code block below, and run that block by clicking on the 'run cell' button marked with red on the following image.\n",
    "\n",
    "![title](menu.png)\n",
    "\n",
    "Running the code cell for the first time may take a while. Once the run is complete, you'll see some slidebars/dropdown menus along with the 'Run Interact' button. Adjust the parameters, and then press the button to see the visualization.\n",
    "\n",
    "In this applet, we will sample data points from an exponential distribution.\n",
    "- mean: true mean of the exponential distribution\n",
    "- N: the number of points to get each average value with. (e.g. N=5 will average over groups of 5)"
   ]
  },
  {
   "cell_type": "code",
   "execution_count": 1,
   "metadata": {},
   "outputs": [
    {
     "data": {
      "application/vnd.jupyter.widget-view+json": {
       "model_id": "f119ae6d1b694a5ab106b84ab4ecf1b3"
      }
     },
     "metadata": {},
     "output_type": "display_data"
    },
    {
     "data": {
      "text/plain": [
       "<function visfunctions.CLT>"
      ]
     },
     "execution_count": 1,
     "metadata": {},
     "output_type": "execute_result"
    }
   ],
   "source": [
    "from visfunctions import CLT\n",
    "from ipywidgets import interact_manual\n",
    "\n",
    "interact_manual(CLT, mean=(0.5, 3), N=(1, 50))"
   ]
  }
 ],
 "metadata": {
  "kernelspec": {
   "display_name": "Python 2",
   "language": "python",
   "name": "python2"
  },
  "language_info": {
   "codemirror_mode": {
    "name": "ipython",
    "version": 2
   },
   "file_extension": ".py",
   "mimetype": "text/x-python",
   "name": "python",
   "nbconvert_exporter": "python",
   "pygments_lexer": "ipython2",
   "version": "2.7.13"
  }
 },
 "nbformat": 4,
 "nbformat_minor": 2
}
