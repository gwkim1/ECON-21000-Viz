{
 "cells": [
  {
   "cell_type": "markdown",
   "metadata": {},
   "source": [
    "# Bivariate Normal Distribution"
   ]
  },
  {
   "cell_type": "markdown",
   "metadata": {},
   "source": [
    "This notebook would plot the joint density of a Bivariate Normal Distribution, consisting of two random variables X and Y. \n",
    "<br>\n",
    "Running the code below would create an applet with 5 slidebars that let you control the 5 parameters of a bivariate normal distribution: X's mean and variance, Y's mean and variance, and the correlation between X and Y. "
   ]
  },
  {
   "cell_type": "code",
   "execution_count": 1,
   "metadata": {},
   "outputs": [
    {
     "data": {
      "application/vnd.jupyter.widget-view+json": {
       "model_id": "a90be7767c9b4cce8680acd9c824ad0e"
      }
     },
     "metadata": {},
     "output_type": "display_data"
    },
    {
     "data": {
      "text/plain": [
       "<function __main__.BVN>"
      ]
     },
     "execution_count": 1,
     "metadata": {},
     "output_type": "execute_result"
    }
   ],
   "source": [
    "import numpy as np\n",
    "import math \n",
    "import matplotlib.pyplot as plt\n",
    "import ipywidgets as widgets\n",
    "from ipywidgets import interact, interactive, fixed, interact_manual\n",
    "from matplotlib import cm\n",
    "from mpl_toolkits.mplot3d import Axes3D\n",
    "\n",
    "# This applet is created based on the code from the following link: \n",
    "# https://scipython.com/blog/visualizing-the-bivariate-gaussian-distribution/\n",
    "\n",
    "def multivariate_gaussian(pos, mu, Sigma):\n",
    "    \"\"\"Return the multivariate Gaussian distribution on array pos.\n",
    "\n",
    "    pos is an array constructed by packing the meshed arrays of variables\n",
    "    x_1, x_2, x_3, ..., x_k into its _last_ dimension.\n",
    "    \"\"\"\n",
    "\n",
    "    n = mu.shape[0]\n",
    "    Sigma_det = np.linalg.det(Sigma)\n",
    "    Sigma_inv = np.linalg.inv(Sigma)\n",
    "    N = np.sqrt((2*np.pi)**n * Sigma_det)\n",
    "    # This einsum call calculates (x-mu)T.Sigma-1.(x-mu) in a vectorized\n",
    "    # way across all the input variables.\n",
    "    fac = np.einsum('...k,kl,...l->...', pos-mu, Sigma_inv, pos-mu)\n",
    "\n",
    "    return np.exp(-fac / 2) / N\n",
    "\n",
    "def BVN(meanX, meanY, varX, varY, corr):\n",
    "    cov = corr * math.sqrt(varY) * math.sqrt(varX)\n",
    "    meanY = float(meanY)\n",
    "    meanX = float(meanX)\n",
    "    varY = float(varY)\n",
    "    varX = float(varX)\n",
    "\n",
    "    \n",
    " \n",
    "    print (\"Observe how the shape of the sampled points (1st plot) and the 3D Bell curve of the joint density (2nd plot)\" + \\\n",
    "         \" changes as each paremeter is shifted.\")\n",
    "    \n",
    "    # Our 2-dimensional distribution will be over variables X and Y\n",
    "    N = 60\n",
    "    X = np.linspace(-3, 3, N)\n",
    "    Y = np.linspace(-3, 3, N)\n",
    "    X, Y = np.meshgrid(X, Y)\n",
    "\n",
    "    # Mean vector and covariance matrix\n",
    "    mu = np.array([meanX, meanY])\n",
    "    Sigma = np.array([[varX , cov], [cov,  varY]])\n",
    "\n",
    "    \n",
    "    # Randomly sample 200 points for the scatterplot\n",
    "    samples = np.random.multivariate_normal(mu, Sigma, 200)\n",
    "    plt.scatter(samples[:,0], samples[:,1])\n",
    "    plt.plot(meanX, meanY, 'ro', label='mean')\n",
    "    plt.legend()\n",
    "    plt.title(\"200 samples from the distribution\")\n",
    "    plt.xlim(-3, 3)\n",
    "    plt.xlabel(\"X\")\n",
    "    plt.ylim(-3, 3)\n",
    "    plt.ylabel(\"Y\")\n",
    "    plt.show()\n",
    "    \n",
    "    # Pack X and Y into a single 3-dimensional array\n",
    "    pos = np.empty(X.shape + (2,))\n",
    "    pos[:, :, 0] = X\n",
    "    pos[:, :, 1] = Y\n",
    "\n",
    "    # The distribution on the variables X, Y packed into pos.\n",
    "    Z = multivariate_gaussian(pos, mu, Sigma)\n",
    "\n",
    "    # Create a surface plot and projected filled contour plot under it.\n",
    "    fig = plt.figure()\n",
    "    fig.set_size_inches(9, 7)\n",
    "    ax = fig.gca(projection='3d')\n",
    "    ax.plot_surface(X, Y, Z, rstride=3, cstride=3, linewidth=1, antialiased=True,\n",
    "                    cmap=cm.viridis)\n",
    "    ax.set_xlabel(\"X\")\n",
    "    ax.set_ylabel(\"Y\")\n",
    "    ax.set_zlabel(\"Joint Density\")\n",
    "    cset = ax.contourf(X, Y, Z, zdir='z', offset=-0.8, cmap=cm.viridis)\n",
    "\n",
    "    # Adjust the limits, ticks and view angle\n",
    "    ax.set_zlim(-0.8,1.0)\n",
    "    ax.set_zticks(np.linspace(0,1.0,5))\n",
    "    ax.view_init(27, -85)\n",
    "    plt.title(\"Joint Density of Bivariate Normal Distribution\")\n",
    "    plt.show()\n",
    "\n",
    "interact(BVN, meanX=(-1.0, 1.0), meanY=(-1.0, 1.0), varX=(0.1, 1.0), varY=(0.1, 1.0), corr=(-0.90, 0.90))"
   ]
  },
  {
   "cell_type": "code",
   "execution_count": null,
   "metadata": {
    "collapsed": true
   },
   "outputs": [],
   "source": []
  }
 ],
 "metadata": {
  "kernelspec": {
   "display_name": "Python 2",
   "language": "python",
   "name": "python2"
  },
  "language_info": {
   "codemirror_mode": {
    "name": "ipython",
    "version": 2
   },
   "file_extension": ".py",
   "mimetype": "text/x-python",
   "name": "python",
   "nbconvert_exporter": "python",
   "pygments_lexer": "ipython2",
   "version": "2.7.13"
  },
  "widgets": {
   "application/vnd.jupyter.widget-state+json": {
    "state": {
     "15c87d90b3d34e46ba38bdbac39b3155": {
      "model_module": "jupyter-js-widgets",
      "model_module_version": "~2.1.4",
      "model_name": "VBoxModel",
      "state": {
       "_dom_classes": [
        "widget-interact"
       ],
       "_model_module_version": "~2.1.4",
       "_view_module_version": "~2.1.4",
       "children": [
        "IPY_MODEL_a7c06d85c79744c390d7edfac2332e8d",
        "IPY_MODEL_5e217006688f4d50a41971adfe5d5842",
        "IPY_MODEL_c2df8119adc8465bb0d5369e4fa5a7a7",
        "IPY_MODEL_1ccc3bc5b7d74c96bbd6c35c6407b500",
        "IPY_MODEL_95e68101a337468ba18531a3cd9d0c25",
        "IPY_MODEL_61b82df525e64fdf8336ee5724809c4b"
       ],
       "layout": "IPY_MODEL_7b3ae49226fa40beb5d36a270ad57f11"
      }
     },
     "1ccc3bc5b7d74c96bbd6c35c6407b500": {
      "model_module": "jupyter-js-widgets",
      "model_module_version": "~2.1.4",
      "model_name": "FloatSliderModel",
      "state": {
       "_model_module_version": "~2.1.4",
       "_view_module_version": "~2.1.4",
       "description": "varY",
       "layout": "IPY_MODEL_cd9bec23e78f4ce2bab9adf3c9d0451a",
       "max": 1,
       "min": 0.1,
       "step": 0.1,
       "value": 0.55
      }
     },
     "5e217006688f4d50a41971adfe5d5842": {
      "model_module": "jupyter-js-widgets",
      "model_module_version": "~2.1.4",
      "model_name": "FloatSliderModel",
      "state": {
       "_model_module_version": "~2.1.4",
       "_view_module_version": "~2.1.4",
       "description": "meanY",
       "layout": "IPY_MODEL_bee9905ba038431d8d17e2578847df5e",
       "max": 1,
       "min": -1,
       "step": 0.1
      }
     },
     "61b82df525e64fdf8336ee5724809c4b": {
      "model_module": "jupyter-js-widgets",
      "model_module_version": "~2.1.4",
      "model_name": "OutputModel",
      "state": {
       "_dom_classes": [],
       "_model_module": "jupyter-js-widgets",
       "_model_module_version": "~2.1.4",
       "_view_module": "jupyter-js-widgets",
       "_view_module_version": "~2.1.4",
       "layout": "IPY_MODEL_ea1b4418472e4d439b755713a2780be9",
       "msg_throttle": 1
      }
     },
     "7b3ae49226fa40beb5d36a270ad57f11": {
      "model_module": "jupyter-js-widgets",
      "model_module_version": "~2.1.4",
      "model_name": "LayoutModel",
      "state": {
       "_model_module_version": "~2.1.4",
       "_view_module_version": "~2.1.4"
      }
     },
     "8c6afd13440441b9b877fc3972f3c15a": {
      "model_module": "jupyter-js-widgets",
      "model_module_version": "~2.1.4",
      "model_name": "LayoutModel",
      "state": {
       "_model_module_version": "~2.1.4",
       "_view_module_version": "~2.1.4"
      }
     },
     "95e68101a337468ba18531a3cd9d0c25": {
      "model_module": "jupyter-js-widgets",
      "model_module_version": "~2.1.4",
      "model_name": "FloatSliderModel",
      "state": {
       "_model_module_version": "~2.1.4",
       "_view_module_version": "~2.1.4",
       "description": "corr",
       "layout": "IPY_MODEL_f6947b71580e446cb7dfd854e7841fce",
       "max": 0.9,
       "min": -0.9,
       "step": 0.1
      }
     },
     "a7c06d85c79744c390d7edfac2332e8d": {
      "model_module": "jupyter-js-widgets",
      "model_module_version": "~2.1.4",
      "model_name": "FloatSliderModel",
      "state": {
       "_model_module_version": "~2.1.4",
       "_view_module_version": "~2.1.4",
       "description": "meanX",
       "layout": "IPY_MODEL_b66f32b72616438d8cf0c2153a749980",
       "max": 1,
       "min": -1,
       "step": 0.1
      }
     },
     "b66f32b72616438d8cf0c2153a749980": {
      "model_module": "jupyter-js-widgets",
      "model_module_version": "~2.1.4",
      "model_name": "LayoutModel",
      "state": {
       "_model_module_version": "~2.1.4",
       "_view_module_version": "~2.1.4"
      }
     },
     "bee9905ba038431d8d17e2578847df5e": {
      "model_module": "jupyter-js-widgets",
      "model_module_version": "~2.1.4",
      "model_name": "LayoutModel",
      "state": {
       "_model_module_version": "~2.1.4",
       "_view_module_version": "~2.1.4"
      }
     },
     "c2df8119adc8465bb0d5369e4fa5a7a7": {
      "model_module": "jupyter-js-widgets",
      "model_module_version": "~2.1.4",
      "model_name": "FloatSliderModel",
      "state": {
       "_model_module_version": "~2.1.4",
       "_view_module_version": "~2.1.4",
       "description": "varX",
       "layout": "IPY_MODEL_8c6afd13440441b9b877fc3972f3c15a",
       "max": 1,
       "min": 0.1,
       "step": 0.1,
       "value": 0.55
      }
     },
     "cd9bec23e78f4ce2bab9adf3c9d0451a": {
      "model_module": "jupyter-js-widgets",
      "model_module_version": "~2.1.4",
      "model_name": "LayoutModel",
      "state": {
       "_model_module_version": "~2.1.4",
       "_view_module_version": "~2.1.4"
      }
     },
     "ea1b4418472e4d439b755713a2780be9": {
      "model_module": "jupyter-js-widgets",
      "model_module_version": "~2.1.4",
      "model_name": "LayoutModel",
      "state": {
       "_model_module_version": "~2.1.4",
       "_view_module_version": "~2.1.4"
      }
     },
     "f6947b71580e446cb7dfd854e7841fce": {
      "model_module": "jupyter-js-widgets",
      "model_module_version": "~2.1.4",
      "model_name": "LayoutModel",
      "state": {
       "_model_module_version": "~2.1.4",
       "_view_module_version": "~2.1.4"
      }
     }
    },
    "version_major": 1,
    "version_minor": 0
   }
  }
 },
 "nbformat": 4,
 "nbformat_minor": 2
}
