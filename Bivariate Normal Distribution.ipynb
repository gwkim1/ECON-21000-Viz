{
 "cells": [
  {
   "cell_type": "markdown",
   "metadata": {},
   "source": [
    "# Bivariate Normal Distribution"
   ]
  },
  {
   "cell_type": "markdown",
   "metadata": {},
   "source": [
    "This notebook would plot the joint density of a Bivariate Normal Distribution, consisting of two random variables X and Y. \n",
    "<br>\n",
    "Running the code below would create an applet with 5 slidebars that let you control the 5 parameters of a bivariate normal distribution: X's mean and variance, Y's mean and variance, and the correlation between X and Y. "
   ]
  },
  {
   "cell_type": "code",
   "execution_count": 2,
   "metadata": {},
   "outputs": [
    {
     "data": {
      "application/vnd.jupyter.widget-view+json": {
       "model_id": "634546e2434b433bb4c60de56a8395bf"
      }
     },
     "metadata": {},
     "output_type": "display_data"
    },
    {
     "data": {
      "text/plain": [
       "<function __main__.BVN>"
      ]
     },
     "execution_count": 2,
     "metadata": {},
     "output_type": "execute_result"
    }
   ],
   "source": [
    "import numpy as np\n",
    "import math \n",
    "import matplotlib.pyplot as plt\n",
    "import ipywidgets as widgets\n",
    "from ipywidgets import interact, interactive, fixed, interact_manual\n",
    "from matplotlib import cm\n",
    "from mpl_toolkits.mplot3d import Axes3D\n",
    "\n",
    "# This applet is created based on the code from the following link: \n",
    "# https://scipython.com/blog/visualizing-the-bivariate-gaussian-distribution/\n",
    "\n",
    "def multivariate_gaussian(pos, mu, Sigma):\n",
    "    \"\"\"Return the multivariate Gaussian distribution on array pos.\n",
    "    pos is an array constructed by packing the meshed arrays of variables\n",
    "    x_1, x_2, x_3, ..., x_k into its _last_ dimension.\n",
    "    \"\"\"\n",
    "    try:\n",
    "        n = mu.shape[0]\n",
    "        Sigma_det = np.linalg.det(Sigma)\n",
    "        Sigma_inv = np.linalg.inv(Sigma)\n",
    "        N = np.sqrt((2*np.pi)**n * Sigma_det)\n",
    "        # This einsum call calculates (x-mu)T.Sigma-1.(x-mu) in a vectorized\n",
    "        # way across all the input variables.\n",
    "        fac = np.einsum('...k,kl,...l->...', pos-mu, Sigma_inv, pos-mu)\n",
    "\n",
    "        return np.exp(-fac / 2) / N\n",
    "    \n",
    "    except:\n",
    "        print(\"Invalid covariance\")\n",
    "        return\n",
    "        \n",
    "def BVN(meanX, meanY, varX, varY, cov, x):\n",
    "    meanY = float(meanY)\n",
    "    meanX = float(meanX)\n",
    "    varY = float(varY)\n",
    "    varX = float(varX)\n",
    "    cov = float(cov)\n",
    "\n",
    "    print (\"Observe how the shape of the sampled points (1st plot) and the 3D Bell curve of the joint density (2nd plot)\" + \\\n",
    "         \" changes as each paremeter is shifted.\")\n",
    "    \n",
    "    # Our 2-dimensional distribution will be over variables X and Y\n",
    "    N = 60\n",
    "    X = np.linspace(-3, 3, N)\n",
    "    Y = np.linspace(-3, 3, N)\n",
    "    X, Y = np.meshgrid(X, Y)\n",
    "\n",
    "    # Mean vector and covariance matrix\n",
    "    mu = np.array([meanX, meanY])\n",
    "    Sigma = np.array([[varX , cov], [cov,  varY]])\n",
    "\n",
    "    # Randomly sample 200 points for the scatterplot\n",
    "    samples = np.random.multivariate_normal(mu, Sigma, 100)\n",
    "    plt.scatter(samples[:,0], samples[:,1])\n",
    "    plt.plot(meanX, meanY, 'ro', label='mean')\n",
    "    plt.legend()\n",
    "    plt.title(\"200 samples from the distribution\")\n",
    "    plt.xlim(-3, 3)\n",
    "    plt.xlabel(\"X\")\n",
    "    plt.ylim(-3, 3)\n",
    "    plt.ylabel(\"Y\")\n",
    "    plt.show()\n",
    "    \n",
    "    # Pack X and Y into a single 3-dimensional array\n",
    "    pos = np.empty(X.shape + (2,))\n",
    "    pos[:, :, 0] = X\n",
    "    pos[:, :, 1] = Y\n",
    "\n",
    "    # The distribution on the variables X, Y packed into pos.\n",
    "    Z = multivariate_gaussian(pos, mu, Sigma)\n",
    "\n",
    "    # Create a surface plot and projected filled contour plot under it.\n",
    "    fig = plt.figure()\n",
    "    fig.set_size_inches(9, 7)\n",
    "    ax = fig.gca(projection='3d')\n",
    "    ax.plot_surface(X, Y, Z, rstride=3, cstride=3, linewidth=1, antialiased=True,\n",
    "                    cmap=cm.viridis)\n",
    "    ax.set_xlabel(\"X\")\n",
    "    ax.set_ylabel(\"Y\")\n",
    "    ax.set_zlabel(\"Joint Density\")\n",
    "    cset = ax.contourf(X, Y, Z, zdir='z', offset=-0.7, cmap=cm.viridis)\n",
    "\n",
    "    # Adjust the limits, ticks and view angle\n",
    "    ax.set_zlim(-0.8,1.0)\n",
    "    ax.set_zticks(np.linspace(0,1.0,5))\n",
    "    ax.view_init(27, -85)\n",
    "    plt.title(\"Joint Density of Bivariate Normal Distribution\")\n",
    "    plt.show()\n",
    "    \n",
    "    corr = np.corrcoef(samples[:, 0], samples[:, 1])[0][1]\n",
    "    yy = np.linspace(-2, 2, 100)\n",
    "    yyy = [ 1 / (2 * math.pi * math.sqrt(varX) * math.sqrt(varY) * math.sqrt(1-corr**2)) * \\\n",
    "           np.exp(-((x - meanX)**2 / varX - 2*corr*(x-meanX)*(y-meanY) / (math.sqrt(varX) * math.sqrt(varY)) + (y - meanY)**2 / varY)) for y in yy]\n",
    "    plt.plot(yy, yyy)\n",
    "    plt.title(\"marginal distribution of y, when x=\" + str(x) + \" is fixed\")\n",
    "    plt.xlabel(\"y\")\n",
    "    plt.ylabel(\"P(y | x)\")\n",
    "    plt.show()\n",
    "\n",
    "interact_manual(BVN, meanX=(-1.0, 1.0), meanY=(-1.0, 1.0), varX=(0.1, 1.0), varY=(0.1, 1.0), cov=(-1.0, 1.0), x=(-2.0, 2.0))"
   ]
  }
 ],
 "metadata": {
  "kernelspec": {
   "display_name": "Python 2",
   "language": "python",
   "name": "python2"
  },
  "language_info": {
   "codemirror_mode": {
    "name": "ipython",
    "version": 2
   },
   "file_extension": ".py",
   "mimetype": "text/x-python",
   "name": "python",
   "nbconvert_exporter": "python",
   "pygments_lexer": "ipython2",
   "version": "2.7.13"
  },
  "widgets": {
   "state": {
    "909306f044a543628a16fae56ee342fb": {
     "views": [
      {
       "cell_index": 2
      }
     ]
    }
   },
   "version": "1.2.0"
  }
 },
 "nbformat": 4,
 "nbformat_minor": 2
}
