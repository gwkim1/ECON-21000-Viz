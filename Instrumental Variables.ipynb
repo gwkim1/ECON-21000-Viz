{
 "cells": [
  {
   "cell_type": "markdown",
   "metadata": {},
   "source": [
    "# Instrumental Variables"
   ]
  },
  {
   "cell_type": "code",
   "execution_count": 15,
   "metadata": {},
   "outputs": [
    {
     "data": {
      "application/vnd.jupyter.widget-view+json": {
       "model_id": "739c65d6770a4280a3c587c19e7dfd92"
      }
     },
     "metadata": {},
     "output_type": "display_data"
    },
    {
     "data": {
      "text/plain": [
       "<function __main__.IV>"
      ]
     },
     "execution_count": 15,
     "metadata": {},
     "output_type": "execute_result"
    }
   ],
   "source": [
    "import numpy as np\n",
    "import math \n",
    "import matplotlib.pyplot as plt\n",
    "import ipywidgets as widgets\n",
    "from ipywidgets import interact, interactive, fixed, interact_manual\n",
    "import scipy.stats as stats\n",
    "from sklearn import datasets, linear_model\n",
    "\n",
    "def IV(covXZ=0.7):\n",
    "    N=500\n",
    "    alpha = 0.5\n",
    "    beta = 2.0\n",
    "    mean = [0, 0, 0]\n",
    "    cov = [[1, covXZ, 0.7], [covXZ, 1, 0], [0.7, 0, 1]]  # X, Z, eps\n",
    "    #np.random.seed(123)\n",
    "    X, Z, eps = np.random.multivariate_normal(mean, cov, N).T\n",
    "\n",
    "    '''\n",
    "    plt.scatter(X, Z)\n",
    "    plt.xlabel(\"X\")\n",
    "    plt.ylabel(\"Z\")    \n",
    "    plt.show()\n",
    "    plt.scatter(X, eps)\n",
    "    plt.xlabel(\"X\")\n",
    "    plt.ylabel(\"epsilon\")    \n",
    "    plt.show()\n",
    "    plt.scatter(Z, eps)\n",
    "    plt.xlabel(\"Z\")\n",
    "    plt.ylabel(\"epsilon\")\n",
    "    plt.show()\n",
    "    '''\n",
    "\n",
    "    #print np.corrcoef(X, Z)[0][1], np.corrcoef(X, eps)[0][1], np.corrcoef(Z, eps)[0][1]\n",
    "    \n",
    "    Y = [alpha + beta * x + e for x, e in zip(X, eps)]\n",
    "    \n",
    "    X = np.array(X)\n",
    "    Y = np.array(Y)\n",
    "    Z = np.array(Z)\n",
    "    \n",
    "    regr = linear_model.LinearRegression()\n",
    "    xx = np.linspace(-3, 3, 300)\n",
    "\n",
    "    \n",
    "    print (\"One method of estimating the true beta with the Instrumental Variable Z is to first fit X~Z to get Xhat, \" + \\\n",
    "           \"and then fit Y~Xhat to get Yhat. The resulting slope would correclty estimate the true beta=2\")\n",
    "    \n",
    "    regr.fit(Z.reshape(N, 1), X.reshape(N, 1))\n",
    "    Xhat = regr.predict(Z.reshape(N, 1))\n",
    "    zx = [regr.intercept_ + x * regr.coef_[0] for x in xx] \n",
    "    ZXbeta = regr.coef_[0][0]\n",
    "    plt.scatter(Z, X)\n",
    "    plt.plot(xx, zx, 'C1', label='slope: ' + str(round(regr.coef_[0][0], 3)))\n",
    "    plt.xlabel(\"Z\")\n",
    "    plt.ylabel(\"X\")    \n",
    "    plt.title(\"stage 1: fit X against Z\")\n",
    "    plt.legend()\n",
    "    plt.show()    \n",
    "    \n",
    "    regr.fit(Xhat.reshape(N, 1), Y.reshape(N, 1))\n",
    "    Yhat = regr.predict(Xhat.reshape(N, 1))\n",
    "    yx = [regr.intercept_ + x * regr.coef_[0] for x in xx] \n",
    "    plt.scatter(Xhat, Y)\n",
    "    plt.plot(xx, yx, 'C1', label='slope: ' + str(round(regr.coef_[0][0], 3)))\n",
    "    plt.xlabel(\"X\")\n",
    "    plt.ylabel(\"Y\")    \n",
    "    plt.title(\"stage 2: fit Y against Xhat from stage 1\")\n",
    "    plt.legend()\n",
    "    plt.show()        \n",
    "    print (\"Observe that the resulting fitted line from stage 2 closely estimates the true beta=2.\\n\")\n",
    "    print (\"Another method is to fit X~Z to get Xhat, fit Y~Z to get Yhat, and to calculate the ratio \" + \\\n",
    "           \"of betahat from Y~Z / betahat from X~Z.\")\n",
    "    \n",
    "    \n",
    "    regr.fit(Z.reshape(N, 1), Y.reshape(N, 1))\n",
    "    ZYbeta = regr.coef_[0][0]\n",
    "    plt.scatter(Z, Y)\n",
    "    yx2 = [regr.intercept_ + x * regr.coef_[0] for x in xx] \n",
    "    plt.plot(xx, yx, 'C1', label='slope: ' + str(round(regr.coef_[0][0], 3)))\n",
    "    plt.xlabel(\"X\")\n",
    "    plt.ylabel(\"Y\")    \n",
    "    plt.title(\"stage 3: fit Y against Z\")\n",
    "    plt.legend()\n",
    "    plt.show()       \n",
    "    print (\"Note that the slope from stage 3/stage 1: \" + str(ZYbeta) + \" + \" + str(ZXbeta) + \" = \" + str(ZYbeta / ZXbeta) +\\\n",
    "          \" closely estimates the true beta=2 as well.\\n\")\n",
    "    \n",
    "    print (\"The final plot below shows that taking the Instrumental Variable Z into account correctly estimates \" + \\\n",
    "           \"the true beta, while simply fitting Y~X does not.\")\n",
    "    \n",
    "    \n",
    "    plt.plot(X, Y, 'bo', label=\"without Z\")\n",
    "    plt.plot(Xhat, Yhat, 'ro', label=\"with Z\")\n",
    "    \n",
    "    xx = np.linspace(-3, 3, 100)\n",
    "    yy = [alpha + beta*x for x in xx]\n",
    "    plt.plot(xx, yy, 'C1', label='line with true beta')\n",
    "    plt.title(\"Fitting Y~Z with/without the Instrumental Variable Z\")\n",
    "    plt.legend()\n",
    "    plt.show()\n",
    "    \n",
    "interact_manual(IV, covXZ=(-0.9, 0.9))"
   ]
  }
 ],
 "metadata": {
  "kernelspec": {
   "display_name": "Python 2",
   "language": "python",
   "name": "python2"
  },
  "language_info": {
   "codemirror_mode": {
    "name": "ipython",
    "version": 2
   },
   "file_extension": ".py",
   "mimetype": "text/x-python",
   "name": "python",
   "nbconvert_exporter": "python",
   "pygments_lexer": "ipython2",
   "version": "2.7.13"
  }
 },
 "nbformat": 4,
 "nbformat_minor": 2
}
