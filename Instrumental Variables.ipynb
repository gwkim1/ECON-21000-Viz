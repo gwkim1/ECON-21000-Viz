{
 "cells": [
  {
   "cell_type": "markdown",
   "metadata": {},
   "source": [
    "# Instrumental Variables"
   ]
  },
  {
   "cell_type": "markdown",
   "metadata": {},
   "source": [
    "This notebook displays how Instrumental Variables can be introduced to correctly estimate the true $\\beta$ in $Y = \\beta X + \\epsilon$, when an explanatory variable ($X$) is correlated with the error term ($\\epsilon$). In this case, we can introduce a new variable $Z$, which induces changes in the explanatory variable ($X$) but has no independent effect on the dependent variable (no correlation with $\\epsilon$).\n",
    "\n",
    "In the visualization below, $corr(X, \\epsilon) = 0.7$, $corr(X, Z)$ is controllable with the slidebar, and $corr(Z, \\epsilon)=0$ to correctly display the effect of introducting $Z$.\n",
    "\n",
    "To create the visualization, click on the code block below, and run that block by clicking on the 'run cell' button marked with red on the following image.\n",
    "\n",
    "![title](Menu.PNG)\n",
    "\n",
    "Running the code cell for the first time may take a while. Once the run is complete, you'll see some slidebars/dropdown menus along with the 'Run Interact' button. Adjust the parameters, and then press the button to see the visualization."
   ]
  },
  {
   "cell_type": "code",
   "execution_count": 2,
   "metadata": {},
   "outputs": [
    {
     "data": {
      "application/vnd.jupyter.widget-view+json": {
       "model_id": "702cda2d067b4591b16cb9477600a663"
      }
     },
     "metadata": {},
     "output_type": "display_data"
    },
    {
     "data": {
      "text/plain": [
       "<function visfunctions.IV>"
      ]
     },
     "execution_count": 2,
     "metadata": {},
     "output_type": "execute_result"
    }
   ],
   "source": [
    "import ipywidgets as widgets\n",
    "from visfunctions import IV\n",
    "from ipywidgets import interact_manual\n",
    "\n",
    "interact_manual(IV, covXZ=(-0.9, 0.9))"
   ]
  }
 ],
 "metadata": {
  "kernelspec": {
   "display_name": "Python 2",
   "language": "python",
   "name": "python2"
  },
  "language_info": {
   "codemirror_mode": {
    "name": "ipython",
    "version": 2
   },
   "file_extension": ".py",
   "mimetype": "text/x-python",
   "name": "python",
   "nbconvert_exporter": "python",
   "pygments_lexer": "ipython2",
   "version": "2.7.13"
  }
 },
 "nbformat": 4,
 "nbformat_minor": 2
}
