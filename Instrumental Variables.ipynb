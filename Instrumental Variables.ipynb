{
 "cells": [
  {
   "cell_type": "markdown",
   "metadata": {},
   "source": [
    "# Instrumental Variables"
   ]
  },
  {
   "cell_type": "code",
   "execution_count": 5,
   "metadata": {},
   "outputs": [
    {
     "data": {
      "application/vnd.jupyter.widget-view+json": {
       "model_id": "44d0cf6b915742378f64302c3e182956"
      }
     },
     "metadata": {},
     "output_type": "display_data"
    },
    {
     "data": {
      "text/plain": [
       "<function __main__.IV>"
      ]
     },
     "execution_count": 5,
     "metadata": {},
     "output_type": "execute_result"
    }
   ],
   "source": [
    "import numpy as np\n",
    "import math \n",
    "import matplotlib.pyplot as plt\n",
    "import ipywidgets as widgets\n",
    "from ipywidgets import interact, interactive, fixed, interact_manual\n",
    "import scipy.stats as stats\n",
    "from sklearn import datasets, linear_model\n",
    "\n",
    "def IV(covXZ=0.5):\n",
    "    N=500\n",
    "    alpha = 0.5\n",
    "    beta = 2.0\n",
    "    mean = [0, 0, 0]\n",
    "    cov = [[1, covXZ, 0.7], [covXZ, 1, 0], [0.7, 0, 1]]  # X, Z, eps\n",
    "    #np.random.seed(123)\n",
    "    X, Z, eps = np.random.multivariate_normal(mean, cov, N).T\n",
    "\n",
    "    '''\n",
    "    plt.scatter(X, Z)\n",
    "    plt.xlabel(\"X\")\n",
    "    plt.ylabel(\"Z\")    \n",
    "    plt.show()\n",
    "    plt.scatter(X, eps)\n",
    "    plt.xlabel(\"X\")\n",
    "    plt.ylabel(\"epsilon\")    \n",
    "    plt.show()\n",
    "    plt.scatter(Z, eps)\n",
    "    plt.xlabel(\"Z\")\n",
    "    plt.ylabel(\"epsilon\")\n",
    "    plt.show()\n",
    "    '''\n",
    "\n",
    "    print np.corrcoef(X, Z)[0][1], np.corrcoef(X, eps)[0][1], np.corrcoef(Z, eps)[0][1]\n",
    "    \n",
    "    Y = [alpha + beta * x + e for x, e in zip(X, eps)]\n",
    "    \n",
    "    X = np.array(X)\n",
    "    Y = np.array(Y)\n",
    "    Z = np.array(Z)\n",
    "    \n",
    "    regr = linear_model.LinearRegression()\n",
    "    regr.fit(X.reshape(N, 1), Y.reshape(N, 1))\n",
    "    xx = np.linspace(-3, 3, 300)\n",
    "    xy = [alpha + x * beta for x in xx]    \n",
    "    \n",
    "    plt.scatter(X, Y)\n",
    "    plt.plot(xx, xy)\n",
    "    plt.xlabel(\"X\")\n",
    "    plt.ylabel(\"Y\")\n",
    "    plt.show()\n",
    "    XYbeta = regr.coef_[0]\n",
    "    print (\"betahat_ols: \" + str(XYbeta))\n",
    "    \n",
    "    regr.fit(Z.reshape(N, 1), Y.reshape(N, 1))\n",
    "    zy = [regr.intercept_ + x * regr.coef_[0] for x in xx]\n",
    "    plt.scatter(Z, Y)\n",
    "    plt.plot(xx, zy)\n",
    "    plt.xlabel(\"Z\")\n",
    "    plt.ylabel(\"Y\")    \n",
    "    plt.show()\n",
    "    ZYbeta = regr.coef_[0]    \n",
    "    print (\"betahat_ols: \" + str(ZYbeta))\n",
    "        \n",
    "        \n",
    "    regr.fit(Z.reshape(N, 1), X.reshape(N, 1))\n",
    "    zx = [regr.intercept_ + x * regr.coef_[0] for x in xx]        \n",
    "    plt.scatter(Z, X)\n",
    "    plt.plot(xx, zx)\n",
    "    plt.xlabel(\"Z\")\n",
    "    plt.ylabel(\"X\")    \n",
    "    plt.show()\n",
    "    ZXbeta = regr.coef_[0]\n",
    "    print (\"betahat_ols: \" + str(ZXbeta))\n",
    "    \n",
    "    regr.fit(X.reshape(N, 1), Z.reshape(N, 1))\n",
    "    Xhat = regr.predict(Z.reshape(N, 1))\n",
    "    regr.fit(Y.reshape(N, 1), Z.reshape(N, 1))\n",
    "    Yhat = regr.predict(Z.reshape(N, 1))    \n",
    "    \n",
    "    print (\"ratio of ZYbeta/ZXbeta: \" + str(ZYbeta / ZXbeta))\n",
    "    \n",
    "    plt.plot(Xhat, Yhat, 'ro', label=\"Xhat ~ Yhat\")\n",
    "    plt.plot(X, Y, 'bo', label=\"X ~ Y\")\n",
    "    xx = np.linspace(-3, 3, 100)\n",
    "    yy = [alpha + beta*x for x in xx]\n",
    "    plt.plot(xx, yy)\n",
    "    plt.legend()\n",
    "    plt.show()\n",
    "    \n",
    "interact_manual(IV, covXZ=(-0.9, 0.9))"
   ]
  }
 ],
 "metadata": {
  "kernelspec": {
   "display_name": "Python 2",
   "language": "python",
   "name": "python2"
  },
  "language_info": {
   "codemirror_mode": {
    "name": "ipython",
    "version": 2
   },
   "file_extension": ".py",
   "mimetype": "text/x-python",
   "name": "python",
   "nbconvert_exporter": "python",
   "pygments_lexer": "ipython2",
   "version": "2.7.13"
  }
 },
 "nbformat": 4,
 "nbformat_minor": 2
}
