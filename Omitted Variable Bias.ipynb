{
 "cells": [
  {
   "cell_type": "markdown",
   "metadata": {
    "collapsed": true
   },
   "source": [
    "# Omitted Variable Bias"
   ]
  },
  {
   "cell_type": "markdown",
   "metadata": {},
   "source": [
    "This notebook displays the effect of Omitted Variable Bias. (https://en.wikipedia.org/wiki/Omitted-variable_bias)\n",
    "<br>\n",
    "Full model: $Y=\\alpha+\\beta_1 \\cdot X+\\beta_2 \\cdot Z + \\epsilon$ with $\\alpha=0.5, \\beta_1=2$.\n",
    "<br>\n",
    "Reduced model (omitting Z): $Y=\\alpha+\\beta_1 \\cdot X + \\epsilon$\n",
    "<br><br>\n",
    "Omitted Variable Bias occurs when \n",
    "<br>1) Z is correlated with X ($cov(Z, X) \\neq 0$) \n",
    "<br>2) Z has a non-zero coefficient ($\\beta_2 \\neq 0$).\n",
    "\n",
    "To create the visualization, click on the code block below, and run that block by clicking on the 'run cell' button marked with red on the following image.\n",
    "\n",
    "![title](Menu.PNG)\n",
    "\n",
    "Running the code cell for the first time may take a while. Once the run is complete, you'll see some slidebars/dropdown menus along with the 'Run Interact' button. Adjust the parameters, and then press the button to see the visualization.\n",
    "\n",
    "Make sure the two parameters, beta2 and cov, are set to nonzero to see the effect of the bias.\n",
    "<br>You can adjust the 'angle' and 'height' parameter to rotate & change the height of the 3d plot."
   ]
  },
  {
   "cell_type": "code",
   "execution_count": 1,
   "metadata": {},
   "outputs": [
    {
     "data": {
      "application/vnd.jupyter.widget-view+json": {
       "model_id": "429dcaaeb545428d8476875150151299"
      }
     },
     "metadata": {},
     "output_type": "display_data"
    },
    {
     "data": {
      "text/plain": [
       "<function visfunctions.OVB>"
      ]
     },
     "execution_count": 1,
     "metadata": {},
     "output_type": "execute_result"
    }
   ],
   "source": [
    "from visfunctions import OVB\n",
    "from ipywidgets import interact_manual\n",
    "\n",
    "interact_manual(OVB, beta2=(-5, 5), cov=(-0.9, 0.9), angle=(0, 360), height=(0, 40))"
   ]
  },
  {
   "cell_type": "code",
   "execution_count": null,
   "metadata": {
    "collapsed": true
   },
   "outputs": [],
   "source": []
  }
 ],
 "metadata": {
  "kernelspec": {
   "display_name": "Python 2",
   "language": "python",
   "name": "python2"
  },
  "language_info": {
   "codemirror_mode": {
    "name": "ipython",
    "version": 2
   },
   "file_extension": ".py",
   "mimetype": "text/x-python",
   "name": "python",
   "nbconvert_exporter": "python",
   "pygments_lexer": "ipython2",
   "version": "2.7.13"
  }
 },
 "nbformat": 4,
 "nbformat_minor": 2
}
